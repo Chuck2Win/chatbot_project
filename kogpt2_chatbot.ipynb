{
  "nbformat": 4,
  "nbformat_minor": 0,
  "metadata": {
    "colab": {
      "name": "kogpt2_chatbot.ipynb",
      "provenance": [],
      "collapsed_sections": [
        "eIYN6HpnbCQ5",
        "E1pcOz42CQ0l"
      ],
      "machine_shape": "hm",
      "include_colab_link": true
    },
    "kernelspec": {
      "name": "python3",
      "display_name": "Python 3"
    },
    "accelerator": "GPU",
    "widgets": {
      "application/vnd.jupyter.widget-state+json": {
        "3bc9768a4fe246f0a90f082ccd208066": {
          "model_module": "@jupyter-widgets/controls",
          "model_name": "HBoxModel",
          "state": {
            "_view_name": "HBoxView",
            "_dom_classes": [],
            "_model_name": "HBoxModel",
            "_view_module": "@jupyter-widgets/controls",
            "_model_module_version": "1.5.0",
            "_view_count": null,
            "_view_module_version": "1.5.0",
            "box_style": "",
            "layout": "IPY_MODEL_fa750fb3d781401fae05c0c01fc7108c",
            "_model_module": "@jupyter-widgets/controls",
            "children": [
              "IPY_MODEL_31bc61ab0f364f7db8de89d0298991ca",
              "IPY_MODEL_0c363b6effd4422d9f98d7f5e409da06"
            ]
          }
        },
        "fa750fb3d781401fae05c0c01fc7108c": {
          "model_module": "@jupyter-widgets/base",
          "model_name": "LayoutModel",
          "state": {
            "_view_name": "LayoutView",
            "grid_template_rows": null,
            "right": null,
            "justify_content": null,
            "_view_module": "@jupyter-widgets/base",
            "overflow": null,
            "_model_module_version": "1.2.0",
            "_view_count": null,
            "flex_flow": null,
            "width": null,
            "min_width": null,
            "border": null,
            "align_items": null,
            "bottom": null,
            "_model_module": "@jupyter-widgets/base",
            "top": null,
            "grid_column": null,
            "overflow_y": null,
            "overflow_x": null,
            "grid_auto_flow": null,
            "grid_area": null,
            "grid_template_columns": null,
            "flex": null,
            "_model_name": "LayoutModel",
            "justify_items": null,
            "grid_row": null,
            "max_height": null,
            "align_content": null,
            "visibility": null,
            "align_self": null,
            "height": null,
            "min_height": null,
            "padding": null,
            "grid_auto_rows": null,
            "grid_gap": null,
            "max_width": null,
            "order": null,
            "_view_module_version": "1.2.0",
            "grid_template_areas": null,
            "object_position": null,
            "object_fit": null,
            "grid_auto_columns": null,
            "margin": null,
            "display": null,
            "left": null
          }
        },
        "31bc61ab0f364f7db8de89d0298991ca": {
          "model_module": "@jupyter-widgets/controls",
          "model_name": "FloatProgressModel",
          "state": {
            "_view_name": "ProgressView",
            "style": "IPY_MODEL_705872c760104eeabef45c60d6271214",
            "_dom_classes": [],
            "description": "Downloading: 100%",
            "_model_name": "FloatProgressModel",
            "bar_style": "success",
            "max": 577,
            "_view_module": "@jupyter-widgets/controls",
            "_model_module_version": "1.5.0",
            "value": 577,
            "_view_count": null,
            "_view_module_version": "1.5.0",
            "orientation": "horizontal",
            "min": 0,
            "description_tooltip": null,
            "_model_module": "@jupyter-widgets/controls",
            "layout": "IPY_MODEL_575b8fdf271142a0b6bedf97eea3dd18"
          }
        },
        "0c363b6effd4422d9f98d7f5e409da06": {
          "model_module": "@jupyter-widgets/controls",
          "model_name": "HTMLModel",
          "state": {
            "_view_name": "HTMLView",
            "style": "IPY_MODEL_e0301bbdb62e449886df1702bafab08f",
            "_dom_classes": [],
            "description": "",
            "_model_name": "HTMLModel",
            "placeholder": "​",
            "_view_module": "@jupyter-widgets/controls",
            "_model_module_version": "1.5.0",
            "value": " 577/577 [00:02&lt;00:00, 253B/s]",
            "_view_count": null,
            "_view_module_version": "1.5.0",
            "description_tooltip": null,
            "_model_module": "@jupyter-widgets/controls",
            "layout": "IPY_MODEL_0d6496bbd7874799b65e06ab2037790b"
          }
        },
        "705872c760104eeabef45c60d6271214": {
          "model_module": "@jupyter-widgets/controls",
          "model_name": "ProgressStyleModel",
          "state": {
            "_view_name": "StyleView",
            "_model_name": "ProgressStyleModel",
            "description_width": "initial",
            "_view_module": "@jupyter-widgets/base",
            "_model_module_version": "1.5.0",
            "_view_count": null,
            "_view_module_version": "1.2.0",
            "bar_color": null,
            "_model_module": "@jupyter-widgets/controls"
          }
        },
        "575b8fdf271142a0b6bedf97eea3dd18": {
          "model_module": "@jupyter-widgets/base",
          "model_name": "LayoutModel",
          "state": {
            "_view_name": "LayoutView",
            "grid_template_rows": null,
            "right": null,
            "justify_content": null,
            "_view_module": "@jupyter-widgets/base",
            "overflow": null,
            "_model_module_version": "1.2.0",
            "_view_count": null,
            "flex_flow": null,
            "width": null,
            "min_width": null,
            "border": null,
            "align_items": null,
            "bottom": null,
            "_model_module": "@jupyter-widgets/base",
            "top": null,
            "grid_column": null,
            "overflow_y": null,
            "overflow_x": null,
            "grid_auto_flow": null,
            "grid_area": null,
            "grid_template_columns": null,
            "flex": null,
            "_model_name": "LayoutModel",
            "justify_items": null,
            "grid_row": null,
            "max_height": null,
            "align_content": null,
            "visibility": null,
            "align_self": null,
            "height": null,
            "min_height": null,
            "padding": null,
            "grid_auto_rows": null,
            "grid_gap": null,
            "max_width": null,
            "order": null,
            "_view_module_version": "1.2.0",
            "grid_template_areas": null,
            "object_position": null,
            "object_fit": null,
            "grid_auto_columns": null,
            "margin": null,
            "display": null,
            "left": null
          }
        },
        "e0301bbdb62e449886df1702bafab08f": {
          "model_module": "@jupyter-widgets/controls",
          "model_name": "DescriptionStyleModel",
          "state": {
            "_view_name": "StyleView",
            "_model_name": "DescriptionStyleModel",
            "description_width": "",
            "_view_module": "@jupyter-widgets/base",
            "_model_module_version": "1.5.0",
            "_view_count": null,
            "_view_module_version": "1.2.0",
            "_model_module": "@jupyter-widgets/controls"
          }
        },
        "0d6496bbd7874799b65e06ab2037790b": {
          "model_module": "@jupyter-widgets/base",
          "model_name": "LayoutModel",
          "state": {
            "_view_name": "LayoutView",
            "grid_template_rows": null,
            "right": null,
            "justify_content": null,
            "_view_module": "@jupyter-widgets/base",
            "overflow": null,
            "_model_module_version": "1.2.0",
            "_view_count": null,
            "flex_flow": null,
            "width": null,
            "min_width": null,
            "border": null,
            "align_items": null,
            "bottom": null,
            "_model_module": "@jupyter-widgets/base",
            "top": null,
            "grid_column": null,
            "overflow_y": null,
            "overflow_x": null,
            "grid_auto_flow": null,
            "grid_area": null,
            "grid_template_columns": null,
            "flex": null,
            "_model_name": "LayoutModel",
            "justify_items": null,
            "grid_row": null,
            "max_height": null,
            "align_content": null,
            "visibility": null,
            "align_self": null,
            "height": null,
            "min_height": null,
            "padding": null,
            "grid_auto_rows": null,
            "grid_gap": null,
            "max_width": null,
            "order": null,
            "_view_module_version": "1.2.0",
            "grid_template_areas": null,
            "object_position": null,
            "object_fit": null,
            "grid_auto_columns": null,
            "margin": null,
            "display": null,
            "left": null
          }
        },
        "13670d6afeff4a2096adf3e9f5a76052": {
          "model_module": "@jupyter-widgets/controls",
          "model_name": "HBoxModel",
          "state": {
            "_view_name": "HBoxView",
            "_dom_classes": [],
            "_model_name": "HBoxModel",
            "_view_module": "@jupyter-widgets/controls",
            "_model_module_version": "1.5.0",
            "_view_count": null,
            "_view_module_version": "1.5.0",
            "box_style": "",
            "layout": "IPY_MODEL_fe63e4cd281647019c6ac57f00567be7",
            "_model_module": "@jupyter-widgets/controls",
            "children": [
              "IPY_MODEL_7f886ea6606946d3a5674a7d78cb7912",
              "IPY_MODEL_7a01916e011a49c98a66ef69c34a0634"
            ]
          }
        },
        "fe63e4cd281647019c6ac57f00567be7": {
          "model_module": "@jupyter-widgets/base",
          "model_name": "LayoutModel",
          "state": {
            "_view_name": "LayoutView",
            "grid_template_rows": null,
            "right": null,
            "justify_content": null,
            "_view_module": "@jupyter-widgets/base",
            "overflow": null,
            "_model_module_version": "1.2.0",
            "_view_count": null,
            "flex_flow": null,
            "width": null,
            "min_width": null,
            "border": null,
            "align_items": null,
            "bottom": null,
            "_model_module": "@jupyter-widgets/base",
            "top": null,
            "grid_column": null,
            "overflow_y": null,
            "overflow_x": null,
            "grid_auto_flow": null,
            "grid_area": null,
            "grid_template_columns": null,
            "flex": null,
            "_model_name": "LayoutModel",
            "justify_items": null,
            "grid_row": null,
            "max_height": null,
            "align_content": null,
            "visibility": null,
            "align_self": null,
            "height": null,
            "min_height": null,
            "padding": null,
            "grid_auto_rows": null,
            "grid_gap": null,
            "max_width": null,
            "order": null,
            "_view_module_version": "1.2.0",
            "grid_template_areas": null,
            "object_position": null,
            "object_fit": null,
            "grid_auto_columns": null,
            "margin": null,
            "display": null,
            "left": null
          }
        },
        "7f886ea6606946d3a5674a7d78cb7912": {
          "model_module": "@jupyter-widgets/controls",
          "model_name": "FloatProgressModel",
          "state": {
            "_view_name": "ProgressView",
            "style": "IPY_MODEL_bfddaeabd1f34174a45cbd65f7423112",
            "_dom_classes": [],
            "description": "Downloading: 100%",
            "_model_name": "FloatProgressModel",
            "bar_style": "success",
            "max": 509586767,
            "_view_module": "@jupyter-widgets/controls",
            "_model_module_version": "1.5.0",
            "value": 509586767,
            "_view_count": null,
            "_view_module_version": "1.5.0",
            "orientation": "horizontal",
            "min": 0,
            "description_tooltip": null,
            "_model_module": "@jupyter-widgets/controls",
            "layout": "IPY_MODEL_775e003f24084231bbc18ec8ef73d48a"
          }
        },
        "7a01916e011a49c98a66ef69c34a0634": {
          "model_module": "@jupyter-widgets/controls",
          "model_name": "HTMLModel",
          "state": {
            "_view_name": "HTMLView",
            "style": "IPY_MODEL_3a3a39bed2c04610b00ee2e8b7b17ab0",
            "_dom_classes": [],
            "description": "",
            "_model_name": "HTMLModel",
            "placeholder": "​",
            "_view_module": "@jupyter-widgets/controls",
            "_model_module_version": "1.5.0",
            "value": " 510M/510M [00:22&lt;00:00, 22.3MB/s]",
            "_view_count": null,
            "_view_module_version": "1.5.0",
            "description_tooltip": null,
            "_model_module": "@jupyter-widgets/controls",
            "layout": "IPY_MODEL_aca5c55cf2c94043a788e739be1e0ef0"
          }
        },
        "bfddaeabd1f34174a45cbd65f7423112": {
          "model_module": "@jupyter-widgets/controls",
          "model_name": "ProgressStyleModel",
          "state": {
            "_view_name": "StyleView",
            "_model_name": "ProgressStyleModel",
            "description_width": "initial",
            "_view_module": "@jupyter-widgets/base",
            "_model_module_version": "1.5.0",
            "_view_count": null,
            "_view_module_version": "1.2.0",
            "bar_color": null,
            "_model_module": "@jupyter-widgets/controls"
          }
        },
        "775e003f24084231bbc18ec8ef73d48a": {
          "model_module": "@jupyter-widgets/base",
          "model_name": "LayoutModel",
          "state": {
            "_view_name": "LayoutView",
            "grid_template_rows": null,
            "right": null,
            "justify_content": null,
            "_view_module": "@jupyter-widgets/base",
            "overflow": null,
            "_model_module_version": "1.2.0",
            "_view_count": null,
            "flex_flow": null,
            "width": null,
            "min_width": null,
            "border": null,
            "align_items": null,
            "bottom": null,
            "_model_module": "@jupyter-widgets/base",
            "top": null,
            "grid_column": null,
            "overflow_y": null,
            "overflow_x": null,
            "grid_auto_flow": null,
            "grid_area": null,
            "grid_template_columns": null,
            "flex": null,
            "_model_name": "LayoutModel",
            "justify_items": null,
            "grid_row": null,
            "max_height": null,
            "align_content": null,
            "visibility": null,
            "align_self": null,
            "height": null,
            "min_height": null,
            "padding": null,
            "grid_auto_rows": null,
            "grid_gap": null,
            "max_width": null,
            "order": null,
            "_view_module_version": "1.2.0",
            "grid_template_areas": null,
            "object_position": null,
            "object_fit": null,
            "grid_auto_columns": null,
            "margin": null,
            "display": null,
            "left": null
          }
        },
        "3a3a39bed2c04610b00ee2e8b7b17ab0": {
          "model_module": "@jupyter-widgets/controls",
          "model_name": "DescriptionStyleModel",
          "state": {
            "_view_name": "StyleView",
            "_model_name": "DescriptionStyleModel",
            "description_width": "",
            "_view_module": "@jupyter-widgets/base",
            "_model_module_version": "1.5.0",
            "_view_count": null,
            "_view_module_version": "1.2.0",
            "_model_module": "@jupyter-widgets/controls"
          }
        },
        "aca5c55cf2c94043a788e739be1e0ef0": {
          "model_module": "@jupyter-widgets/base",
          "model_name": "LayoutModel",
          "state": {
            "_view_name": "LayoutView",
            "grid_template_rows": null,
            "right": null,
            "justify_content": null,
            "_view_module": "@jupyter-widgets/base",
            "overflow": null,
            "_model_module_version": "1.2.0",
            "_view_count": null,
            "flex_flow": null,
            "width": null,
            "min_width": null,
            "border": null,
            "align_items": null,
            "bottom": null,
            "_model_module": "@jupyter-widgets/base",
            "top": null,
            "grid_column": null,
            "overflow_y": null,
            "overflow_x": null,
            "grid_auto_flow": null,
            "grid_area": null,
            "grid_template_columns": null,
            "flex": null,
            "_model_name": "LayoutModel",
            "justify_items": null,
            "grid_row": null,
            "max_height": null,
            "align_content": null,
            "visibility": null,
            "align_self": null,
            "height": null,
            "min_height": null,
            "padding": null,
            "grid_auto_rows": null,
            "grid_gap": null,
            "max_width": null,
            "order": null,
            "_view_module_version": "1.2.0",
            "grid_template_areas": null,
            "object_position": null,
            "object_fit": null,
            "grid_auto_columns": null,
            "margin": null,
            "display": null,
            "left": null
          }
        },
        "6c986a248a624731864c7a8892caf92d": {
          "model_module": "@jupyter-widgets/controls",
          "model_name": "HBoxModel",
          "state": {
            "_view_name": "HBoxView",
            "_dom_classes": [],
            "_model_name": "HBoxModel",
            "_view_module": "@jupyter-widgets/controls",
            "_model_module_version": "1.5.0",
            "_view_count": null,
            "_view_module_version": "1.5.0",
            "box_style": "",
            "layout": "IPY_MODEL_bbe82e54b43f4bceb9dda1d6c54f88c6",
            "_model_module": "@jupyter-widgets/controls",
            "children": [
              "IPY_MODEL_4fe69f310d3a49a3be699d8f1447971e",
              "IPY_MODEL_be1f13edbfec4d7ab4f3f8259b04868d"
            ]
          }
        },
        "bbe82e54b43f4bceb9dda1d6c54f88c6": {
          "model_module": "@jupyter-widgets/base",
          "model_name": "LayoutModel",
          "state": {
            "_view_name": "LayoutView",
            "grid_template_rows": null,
            "right": null,
            "justify_content": null,
            "_view_module": "@jupyter-widgets/base",
            "overflow": null,
            "_model_module_version": "1.2.0",
            "_view_count": null,
            "flex_flow": null,
            "width": null,
            "min_width": null,
            "border": null,
            "align_items": null,
            "bottom": null,
            "_model_module": "@jupyter-widgets/base",
            "top": null,
            "grid_column": null,
            "overflow_y": null,
            "overflow_x": null,
            "grid_auto_flow": null,
            "grid_area": null,
            "grid_template_columns": null,
            "flex": null,
            "_model_name": "LayoutModel",
            "justify_items": null,
            "grid_row": null,
            "max_height": null,
            "align_content": null,
            "visibility": null,
            "align_self": null,
            "height": null,
            "min_height": null,
            "padding": null,
            "grid_auto_rows": null,
            "grid_gap": null,
            "max_width": null,
            "order": null,
            "_view_module_version": "1.2.0",
            "grid_template_areas": null,
            "object_position": null,
            "object_fit": null,
            "grid_auto_columns": null,
            "margin": null,
            "display": null,
            "left": null
          }
        },
        "4fe69f310d3a49a3be699d8f1447971e": {
          "model_module": "@jupyter-widgets/controls",
          "model_name": "FloatProgressModel",
          "state": {
            "_view_name": "ProgressView",
            "style": "IPY_MODEL_3044dc7a35a3485ea95ccf84fd6f0a1b",
            "_dom_classes": [],
            "description": "Downloading: 100%",
            "_model_name": "FloatProgressModel",
            "bar_style": "success",
            "max": 920243,
            "_view_module": "@jupyter-widgets/controls",
            "_model_module_version": "1.5.0",
            "value": 920243,
            "_view_count": null,
            "_view_module_version": "1.5.0",
            "orientation": "horizontal",
            "min": 0,
            "description_tooltip": null,
            "_model_module": "@jupyter-widgets/controls",
            "layout": "IPY_MODEL_f2c8495a7b2945a6be2a2f0843c9859f"
          }
        },
        "be1f13edbfec4d7ab4f3f8259b04868d": {
          "model_module": "@jupyter-widgets/controls",
          "model_name": "HTMLModel",
          "state": {
            "_view_name": "HTMLView",
            "style": "IPY_MODEL_78669ed8c21741c89bd00bfc8786bb3a",
            "_dom_classes": [],
            "description": "",
            "_model_name": "HTMLModel",
            "placeholder": "​",
            "_view_module": "@jupyter-widgets/controls",
            "_model_module_version": "1.5.0",
            "value": " 920k/920k [00:02&lt;00:00, 346kB/s]",
            "_view_count": null,
            "_view_module_version": "1.5.0",
            "description_tooltip": null,
            "_model_module": "@jupyter-widgets/controls",
            "layout": "IPY_MODEL_18ca083b5f6a4e7f94a85b09bfd1210b"
          }
        },
        "3044dc7a35a3485ea95ccf84fd6f0a1b": {
          "model_module": "@jupyter-widgets/controls",
          "model_name": "ProgressStyleModel",
          "state": {
            "_view_name": "StyleView",
            "_model_name": "ProgressStyleModel",
            "description_width": "initial",
            "_view_module": "@jupyter-widgets/base",
            "_model_module_version": "1.5.0",
            "_view_count": null,
            "_view_module_version": "1.2.0",
            "bar_color": null,
            "_model_module": "@jupyter-widgets/controls"
          }
        },
        "f2c8495a7b2945a6be2a2f0843c9859f": {
          "model_module": "@jupyter-widgets/base",
          "model_name": "LayoutModel",
          "state": {
            "_view_name": "LayoutView",
            "grid_template_rows": null,
            "right": null,
            "justify_content": null,
            "_view_module": "@jupyter-widgets/base",
            "overflow": null,
            "_model_module_version": "1.2.0",
            "_view_count": null,
            "flex_flow": null,
            "width": null,
            "min_width": null,
            "border": null,
            "align_items": null,
            "bottom": null,
            "_model_module": "@jupyter-widgets/base",
            "top": null,
            "grid_column": null,
            "overflow_y": null,
            "overflow_x": null,
            "grid_auto_flow": null,
            "grid_area": null,
            "grid_template_columns": null,
            "flex": null,
            "_model_name": "LayoutModel",
            "justify_items": null,
            "grid_row": null,
            "max_height": null,
            "align_content": null,
            "visibility": null,
            "align_self": null,
            "height": null,
            "min_height": null,
            "padding": null,
            "grid_auto_rows": null,
            "grid_gap": null,
            "max_width": null,
            "order": null,
            "_view_module_version": "1.2.0",
            "grid_template_areas": null,
            "object_position": null,
            "object_fit": null,
            "grid_auto_columns": null,
            "margin": null,
            "display": null,
            "left": null
          }
        },
        "78669ed8c21741c89bd00bfc8786bb3a": {
          "model_module": "@jupyter-widgets/controls",
          "model_name": "DescriptionStyleModel",
          "state": {
            "_view_name": "StyleView",
            "_model_name": "DescriptionStyleModel",
            "description_width": "",
            "_view_module": "@jupyter-widgets/base",
            "_model_module_version": "1.5.0",
            "_view_count": null,
            "_view_module_version": "1.2.0",
            "_model_module": "@jupyter-widgets/controls"
          }
        },
        "18ca083b5f6a4e7f94a85b09bfd1210b": {
          "model_module": "@jupyter-widgets/base",
          "model_name": "LayoutModel",
          "state": {
            "_view_name": "LayoutView",
            "grid_template_rows": null,
            "right": null,
            "justify_content": null,
            "_view_module": "@jupyter-widgets/base",
            "overflow": null,
            "_model_module_version": "1.2.0",
            "_view_count": null,
            "flex_flow": null,
            "width": null,
            "min_width": null,
            "border": null,
            "align_items": null,
            "bottom": null,
            "_model_module": "@jupyter-widgets/base",
            "top": null,
            "grid_column": null,
            "overflow_y": null,
            "overflow_x": null,
            "grid_auto_flow": null,
            "grid_area": null,
            "grid_template_columns": null,
            "flex": null,
            "_model_name": "LayoutModel",
            "justify_items": null,
            "grid_row": null,
            "max_height": null,
            "align_content": null,
            "visibility": null,
            "align_self": null,
            "height": null,
            "min_height": null,
            "padding": null,
            "grid_auto_rows": null,
            "grid_gap": null,
            "max_width": null,
            "order": null,
            "_view_module_version": "1.2.0",
            "grid_template_areas": null,
            "object_position": null,
            "object_fit": null,
            "grid_auto_columns": null,
            "margin": null,
            "display": null,
            "left": null
          }
        },
        "c8ef69c15de946a6af2498ea0d0b44a1": {
          "model_module": "@jupyter-widgets/controls",
          "model_name": "HBoxModel",
          "state": {
            "_view_name": "HBoxView",
            "_dom_classes": [],
            "_model_name": "HBoxModel",
            "_view_module": "@jupyter-widgets/controls",
            "_model_module_version": "1.5.0",
            "_view_count": null,
            "_view_module_version": "1.5.0",
            "box_style": "",
            "layout": "IPY_MODEL_753e91da1bf14aab8bc74da55dd369d1",
            "_model_module": "@jupyter-widgets/controls",
            "children": [
              "IPY_MODEL_b47d4e119dc640689dd356b2f97851e0",
              "IPY_MODEL_4036b266d6ba4cc58789415259a2bf4e"
            ]
          }
        },
        "753e91da1bf14aab8bc74da55dd369d1": {
          "model_module": "@jupyter-widgets/base",
          "model_name": "LayoutModel",
          "state": {
            "_view_name": "LayoutView",
            "grid_template_rows": null,
            "right": null,
            "justify_content": null,
            "_view_module": "@jupyter-widgets/base",
            "overflow": null,
            "_model_module_version": "1.2.0",
            "_view_count": null,
            "flex_flow": null,
            "width": null,
            "min_width": null,
            "border": null,
            "align_items": null,
            "bottom": null,
            "_model_module": "@jupyter-widgets/base",
            "top": null,
            "grid_column": null,
            "overflow_y": null,
            "overflow_x": null,
            "grid_auto_flow": null,
            "grid_area": null,
            "grid_template_columns": null,
            "flex": null,
            "_model_name": "LayoutModel",
            "justify_items": null,
            "grid_row": null,
            "max_height": null,
            "align_content": null,
            "visibility": null,
            "align_self": null,
            "height": null,
            "min_height": null,
            "padding": null,
            "grid_auto_rows": null,
            "grid_gap": null,
            "max_width": null,
            "order": null,
            "_view_module_version": "1.2.0",
            "grid_template_areas": null,
            "object_position": null,
            "object_fit": null,
            "grid_auto_columns": null,
            "margin": null,
            "display": null,
            "left": null
          }
        },
        "b47d4e119dc640689dd356b2f97851e0": {
          "model_module": "@jupyter-widgets/controls",
          "model_name": "FloatProgressModel",
          "state": {
            "_view_name": "ProgressView",
            "style": "IPY_MODEL_9d7c23244a434aa9ba20195fdf3ae104",
            "_dom_classes": [],
            "description": "Downloading: 100%",
            "_model_name": "FloatProgressModel",
            "bar_style": "success",
            "max": 848819,
            "_view_module": "@jupyter-widgets/controls",
            "_model_module_version": "1.5.0",
            "value": 848819,
            "_view_count": null,
            "_view_module_version": "1.5.0",
            "orientation": "horizontal",
            "min": 0,
            "description_tooltip": null,
            "_model_module": "@jupyter-widgets/controls",
            "layout": "IPY_MODEL_43428022861345c69663327277c5eb09"
          }
        },
        "4036b266d6ba4cc58789415259a2bf4e": {
          "model_module": "@jupyter-widgets/controls",
          "model_name": "HTMLModel",
          "state": {
            "_view_name": "HTMLView",
            "style": "IPY_MODEL_2f9906b3c2054894b713f52ad415bace",
            "_dom_classes": [],
            "description": "",
            "_model_name": "HTMLModel",
            "placeholder": "​",
            "_view_module": "@jupyter-widgets/controls",
            "_model_module_version": "1.5.0",
            "value": " 849k/849k [00:05&lt;00:00, 148kB/s]",
            "_view_count": null,
            "_view_module_version": "1.5.0",
            "description_tooltip": null,
            "_model_module": "@jupyter-widgets/controls",
            "layout": "IPY_MODEL_e5b79c007444445c9efb83713a7f3672"
          }
        },
        "9d7c23244a434aa9ba20195fdf3ae104": {
          "model_module": "@jupyter-widgets/controls",
          "model_name": "ProgressStyleModel",
          "state": {
            "_view_name": "StyleView",
            "_model_name": "ProgressStyleModel",
            "description_width": "initial",
            "_view_module": "@jupyter-widgets/base",
            "_model_module_version": "1.5.0",
            "_view_count": null,
            "_view_module_version": "1.2.0",
            "bar_color": null,
            "_model_module": "@jupyter-widgets/controls"
          }
        },
        "43428022861345c69663327277c5eb09": {
          "model_module": "@jupyter-widgets/base",
          "model_name": "LayoutModel",
          "state": {
            "_view_name": "LayoutView",
            "grid_template_rows": null,
            "right": null,
            "justify_content": null,
            "_view_module": "@jupyter-widgets/base",
            "overflow": null,
            "_model_module_version": "1.2.0",
            "_view_count": null,
            "flex_flow": null,
            "width": null,
            "min_width": null,
            "border": null,
            "align_items": null,
            "bottom": null,
            "_model_module": "@jupyter-widgets/base",
            "top": null,
            "grid_column": null,
            "overflow_y": null,
            "overflow_x": null,
            "grid_auto_flow": null,
            "grid_area": null,
            "grid_template_columns": null,
            "flex": null,
            "_model_name": "LayoutModel",
            "justify_items": null,
            "grid_row": null,
            "max_height": null,
            "align_content": null,
            "visibility": null,
            "align_self": null,
            "height": null,
            "min_height": null,
            "padding": null,
            "grid_auto_rows": null,
            "grid_gap": null,
            "max_width": null,
            "order": null,
            "_view_module_version": "1.2.0",
            "grid_template_areas": null,
            "object_position": null,
            "object_fit": null,
            "grid_auto_columns": null,
            "margin": null,
            "display": null,
            "left": null
          }
        },
        "2f9906b3c2054894b713f52ad415bace": {
          "model_module": "@jupyter-widgets/controls",
          "model_name": "DescriptionStyleModel",
          "state": {
            "_view_name": "StyleView",
            "_model_name": "DescriptionStyleModel",
            "description_width": "",
            "_view_module": "@jupyter-widgets/base",
            "_model_module_version": "1.5.0",
            "_view_count": null,
            "_view_module_version": "1.2.0",
            "_model_module": "@jupyter-widgets/controls"
          }
        },
        "e5b79c007444445c9efb83713a7f3672": {
          "model_module": "@jupyter-widgets/base",
          "model_name": "LayoutModel",
          "state": {
            "_view_name": "LayoutView",
            "grid_template_rows": null,
            "right": null,
            "justify_content": null,
            "_view_module": "@jupyter-widgets/base",
            "overflow": null,
            "_model_module_version": "1.2.0",
            "_view_count": null,
            "flex_flow": null,
            "width": null,
            "min_width": null,
            "border": null,
            "align_items": null,
            "bottom": null,
            "_model_module": "@jupyter-widgets/base",
            "top": null,
            "grid_column": null,
            "overflow_y": null,
            "overflow_x": null,
            "grid_auto_flow": null,
            "grid_area": null,
            "grid_template_columns": null,
            "flex": null,
            "_model_name": "LayoutModel",
            "justify_items": null,
            "grid_row": null,
            "max_height": null,
            "align_content": null,
            "visibility": null,
            "align_self": null,
            "height": null,
            "min_height": null,
            "padding": null,
            "grid_auto_rows": null,
            "grid_gap": null,
            "max_width": null,
            "order": null,
            "_view_module_version": "1.2.0",
            "grid_template_areas": null,
            "object_position": null,
            "object_fit": null,
            "grid_auto_columns": null,
            "margin": null,
            "display": null,
            "left": null
          }
        },
        "a57a2f314aa344e8a6d8b9167697ceab": {
          "model_module": "@jupyter-widgets/controls",
          "model_name": "HBoxModel",
          "state": {
            "_view_name": "HBoxView",
            "_dom_classes": [],
            "_model_name": "HBoxModel",
            "_view_module": "@jupyter-widgets/controls",
            "_model_module_version": "1.5.0",
            "_view_count": null,
            "_view_module_version": "1.5.0",
            "box_style": "",
            "layout": "IPY_MODEL_595785fc58a64b9aba5d3f0e8bf901d6",
            "_model_module": "@jupyter-widgets/controls",
            "children": [
              "IPY_MODEL_baa648abfda146c2a1302d9148bcf20b",
              "IPY_MODEL_4e891cc41f4c47f39ec2f0f8d7c7c194"
            ]
          }
        },
        "595785fc58a64b9aba5d3f0e8bf901d6": {
          "model_module": "@jupyter-widgets/base",
          "model_name": "LayoutModel",
          "state": {
            "_view_name": "LayoutView",
            "grid_template_rows": null,
            "right": null,
            "justify_content": null,
            "_view_module": "@jupyter-widgets/base",
            "overflow": null,
            "_model_module_version": "1.2.0",
            "_view_count": null,
            "flex_flow": null,
            "width": null,
            "min_width": null,
            "border": null,
            "align_items": null,
            "bottom": null,
            "_model_module": "@jupyter-widgets/base",
            "top": null,
            "grid_column": null,
            "overflow_y": null,
            "overflow_x": null,
            "grid_auto_flow": null,
            "grid_area": null,
            "grid_template_columns": null,
            "flex": null,
            "_model_name": "LayoutModel",
            "justify_items": null,
            "grid_row": null,
            "max_height": null,
            "align_content": null,
            "visibility": null,
            "align_self": null,
            "height": null,
            "min_height": null,
            "padding": null,
            "grid_auto_rows": null,
            "grid_gap": null,
            "max_width": null,
            "order": null,
            "_view_module_version": "1.2.0",
            "grid_template_areas": null,
            "object_position": null,
            "object_fit": null,
            "grid_auto_columns": null,
            "margin": null,
            "display": null,
            "left": null
          }
        },
        "baa648abfda146c2a1302d9148bcf20b": {
          "model_module": "@jupyter-widgets/controls",
          "model_name": "FloatProgressModel",
          "state": {
            "_view_name": "ProgressView",
            "style": "IPY_MODEL_417f1c89a26b46ac85f47266fb46d072",
            "_dom_classes": [],
            "description": "Downloading: 100%",
            "_model_name": "FloatProgressModel",
            "bar_style": "success",
            "max": 85,
            "_view_module": "@jupyter-widgets/controls",
            "_model_module_version": "1.5.0",
            "value": 85,
            "_view_count": null,
            "_view_module_version": "1.5.0",
            "orientation": "horizontal",
            "min": 0,
            "description_tooltip": null,
            "_model_module": "@jupyter-widgets/controls",
            "layout": "IPY_MODEL_dc119e65a6cf4d62bffddbea9986acfa"
          }
        },
        "4e891cc41f4c47f39ec2f0f8d7c7c194": {
          "model_module": "@jupyter-widgets/controls",
          "model_name": "HTMLModel",
          "state": {
            "_view_name": "HTMLView",
            "style": "IPY_MODEL_1cd54d97c725402f87088d0e365b9844",
            "_dom_classes": [],
            "description": "",
            "_model_name": "HTMLModel",
            "placeholder": "​",
            "_view_module": "@jupyter-widgets/controls",
            "_model_module_version": "1.5.0",
            "value": " 85.0/85.0 [00:01&lt;00:00, 53.5B/s]",
            "_view_count": null,
            "_view_module_version": "1.5.0",
            "description_tooltip": null,
            "_model_module": "@jupyter-widgets/controls",
            "layout": "IPY_MODEL_28d3c7c203054b6aa782c25f092c8d7d"
          }
        },
        "417f1c89a26b46ac85f47266fb46d072": {
          "model_module": "@jupyter-widgets/controls",
          "model_name": "ProgressStyleModel",
          "state": {
            "_view_name": "StyleView",
            "_model_name": "ProgressStyleModel",
            "description_width": "initial",
            "_view_module": "@jupyter-widgets/base",
            "_model_module_version": "1.5.0",
            "_view_count": null,
            "_view_module_version": "1.2.0",
            "bar_color": null,
            "_model_module": "@jupyter-widgets/controls"
          }
        },
        "dc119e65a6cf4d62bffddbea9986acfa": {
          "model_module": "@jupyter-widgets/base",
          "model_name": "LayoutModel",
          "state": {
            "_view_name": "LayoutView",
            "grid_template_rows": null,
            "right": null,
            "justify_content": null,
            "_view_module": "@jupyter-widgets/base",
            "overflow": null,
            "_model_module_version": "1.2.0",
            "_view_count": null,
            "flex_flow": null,
            "width": null,
            "min_width": null,
            "border": null,
            "align_items": null,
            "bottom": null,
            "_model_module": "@jupyter-widgets/base",
            "top": null,
            "grid_column": null,
            "overflow_y": null,
            "overflow_x": null,
            "grid_auto_flow": null,
            "grid_area": null,
            "grid_template_columns": null,
            "flex": null,
            "_model_name": "LayoutModel",
            "justify_items": null,
            "grid_row": null,
            "max_height": null,
            "align_content": null,
            "visibility": null,
            "align_self": null,
            "height": null,
            "min_height": null,
            "padding": null,
            "grid_auto_rows": null,
            "grid_gap": null,
            "max_width": null,
            "order": null,
            "_view_module_version": "1.2.0",
            "grid_template_areas": null,
            "object_position": null,
            "object_fit": null,
            "grid_auto_columns": null,
            "margin": null,
            "display": null,
            "left": null
          }
        },
        "1cd54d97c725402f87088d0e365b9844": {
          "model_module": "@jupyter-widgets/controls",
          "model_name": "DescriptionStyleModel",
          "state": {
            "_view_name": "StyleView",
            "_model_name": "DescriptionStyleModel",
            "description_width": "",
            "_view_module": "@jupyter-widgets/base",
            "_model_module_version": "1.5.0",
            "_view_count": null,
            "_view_module_version": "1.2.0",
            "_model_module": "@jupyter-widgets/controls"
          }
        },
        "28d3c7c203054b6aa782c25f092c8d7d": {
          "model_module": "@jupyter-widgets/base",
          "model_name": "LayoutModel",
          "state": {
            "_view_name": "LayoutView",
            "grid_template_rows": null,
            "right": null,
            "justify_content": null,
            "_view_module": "@jupyter-widgets/base",
            "overflow": null,
            "_model_module_version": "1.2.0",
            "_view_count": null,
            "flex_flow": null,
            "width": null,
            "min_width": null,
            "border": null,
            "align_items": null,
            "bottom": null,
            "_model_module": "@jupyter-widgets/base",
            "top": null,
            "grid_column": null,
            "overflow_y": null,
            "overflow_x": null,
            "grid_auto_flow": null,
            "grid_area": null,
            "grid_template_columns": null,
            "flex": null,
            "_model_name": "LayoutModel",
            "justify_items": null,
            "grid_row": null,
            "max_height": null,
            "align_content": null,
            "visibility": null,
            "align_self": null,
            "height": null,
            "min_height": null,
            "padding": null,
            "grid_auto_rows": null,
            "grid_gap": null,
            "max_width": null,
            "order": null,
            "_view_module_version": "1.2.0",
            "grid_template_areas": null,
            "object_position": null,
            "object_fit": null,
            "grid_auto_columns": null,
            "margin": null,
            "display": null,
            "left": null
          }
        },
        "8b94c0b03a7346e8a36013816f47a249": {
          "model_module": "@jupyter-widgets/controls",
          "model_name": "HBoxModel",
          "state": {
            "_view_name": "HBoxView",
            "_dom_classes": [],
            "_model_name": "HBoxModel",
            "_view_module": "@jupyter-widgets/controls",
            "_model_module_version": "1.5.0",
            "_view_count": null,
            "_view_module_version": "1.5.0",
            "box_style": "",
            "layout": "IPY_MODEL_7a9c66ddf00146e794b9ea90457719a1",
            "_model_module": "@jupyter-widgets/controls",
            "children": [
              "IPY_MODEL_0bd6cd27283e410f9b00f09c4637b10d",
              "IPY_MODEL_761dc924f6d2441b8e576b3ca3614abd"
            ]
          }
        },
        "7a9c66ddf00146e794b9ea90457719a1": {
          "model_module": "@jupyter-widgets/base",
          "model_name": "LayoutModel",
          "state": {
            "_view_name": "LayoutView",
            "grid_template_rows": null,
            "right": null,
            "justify_content": null,
            "_view_module": "@jupyter-widgets/base",
            "overflow": null,
            "_model_module_version": "1.2.0",
            "_view_count": null,
            "flex_flow": null,
            "width": null,
            "min_width": null,
            "border": null,
            "align_items": null,
            "bottom": null,
            "_model_module": "@jupyter-widgets/base",
            "top": null,
            "grid_column": null,
            "overflow_y": null,
            "overflow_x": null,
            "grid_auto_flow": null,
            "grid_area": null,
            "grid_template_columns": null,
            "flex": null,
            "_model_name": "LayoutModel",
            "justify_items": null,
            "grid_row": null,
            "max_height": null,
            "align_content": null,
            "visibility": null,
            "align_self": null,
            "height": null,
            "min_height": null,
            "padding": null,
            "grid_auto_rows": null,
            "grid_gap": null,
            "max_width": null,
            "order": null,
            "_view_module_version": "1.2.0",
            "grid_template_areas": null,
            "object_position": null,
            "object_fit": null,
            "grid_auto_columns": null,
            "margin": null,
            "display": null,
            "left": null
          }
        },
        "0bd6cd27283e410f9b00f09c4637b10d": {
          "model_module": "@jupyter-widgets/controls",
          "model_name": "FloatProgressModel",
          "state": {
            "_view_name": "ProgressView",
            "style": "IPY_MODEL_a8b87987a00e439da44bd9f86a2c5687",
            "_dom_classes": [],
            "description": "Downloading: 100%",
            "_model_name": "FloatProgressModel",
            "bar_style": "success",
            "max": 109,
            "_view_module": "@jupyter-widgets/controls",
            "_model_module_version": "1.5.0",
            "value": 109,
            "_view_count": null,
            "_view_module_version": "1.5.0",
            "orientation": "horizontal",
            "min": 0,
            "description_tooltip": null,
            "_model_module": "@jupyter-widgets/controls",
            "layout": "IPY_MODEL_e8473aeb8ca24c9f8d7c1deb96681ef7"
          }
        },
        "761dc924f6d2441b8e576b3ca3614abd": {
          "model_module": "@jupyter-widgets/controls",
          "model_name": "HTMLModel",
          "state": {
            "_view_name": "HTMLView",
            "style": "IPY_MODEL_b1d8b7c8b5384989bdf039624d30f09b",
            "_dom_classes": [],
            "description": "",
            "_model_name": "HTMLModel",
            "placeholder": "​",
            "_view_module": "@jupyter-widgets/controls",
            "_model_module_version": "1.5.0",
            "value": " 109/109 [00:00&lt;00:00, 1.42kB/s]",
            "_view_count": null,
            "_view_module_version": "1.5.0",
            "description_tooltip": null,
            "_model_module": "@jupyter-widgets/controls",
            "layout": "IPY_MODEL_9739a56d71a04e16a1a47a296f68c9e1"
          }
        },
        "a8b87987a00e439da44bd9f86a2c5687": {
          "model_module": "@jupyter-widgets/controls",
          "model_name": "ProgressStyleModel",
          "state": {
            "_view_name": "StyleView",
            "_model_name": "ProgressStyleModel",
            "description_width": "initial",
            "_view_module": "@jupyter-widgets/base",
            "_model_module_version": "1.5.0",
            "_view_count": null,
            "_view_module_version": "1.2.0",
            "bar_color": null,
            "_model_module": "@jupyter-widgets/controls"
          }
        },
        "e8473aeb8ca24c9f8d7c1deb96681ef7": {
          "model_module": "@jupyter-widgets/base",
          "model_name": "LayoutModel",
          "state": {
            "_view_name": "LayoutView",
            "grid_template_rows": null,
            "right": null,
            "justify_content": null,
            "_view_module": "@jupyter-widgets/base",
            "overflow": null,
            "_model_module_version": "1.2.0",
            "_view_count": null,
            "flex_flow": null,
            "width": null,
            "min_width": null,
            "border": null,
            "align_items": null,
            "bottom": null,
            "_model_module": "@jupyter-widgets/base",
            "top": null,
            "grid_column": null,
            "overflow_y": null,
            "overflow_x": null,
            "grid_auto_flow": null,
            "grid_area": null,
            "grid_template_columns": null,
            "flex": null,
            "_model_name": "LayoutModel",
            "justify_items": null,
            "grid_row": null,
            "max_height": null,
            "align_content": null,
            "visibility": null,
            "align_self": null,
            "height": null,
            "min_height": null,
            "padding": null,
            "grid_auto_rows": null,
            "grid_gap": null,
            "max_width": null,
            "order": null,
            "_view_module_version": "1.2.0",
            "grid_template_areas": null,
            "object_position": null,
            "object_fit": null,
            "grid_auto_columns": null,
            "margin": null,
            "display": null,
            "left": null
          }
        },
        "b1d8b7c8b5384989bdf039624d30f09b": {
          "model_module": "@jupyter-widgets/controls",
          "model_name": "DescriptionStyleModel",
          "state": {
            "_view_name": "StyleView",
            "_model_name": "DescriptionStyleModel",
            "description_width": "",
            "_view_module": "@jupyter-widgets/base",
            "_model_module_version": "1.5.0",
            "_view_count": null,
            "_view_module_version": "1.2.0",
            "_model_module": "@jupyter-widgets/controls"
          }
        },
        "9739a56d71a04e16a1a47a296f68c9e1": {
          "model_module": "@jupyter-widgets/base",
          "model_name": "LayoutModel",
          "state": {
            "_view_name": "LayoutView",
            "grid_template_rows": null,
            "right": null,
            "justify_content": null,
            "_view_module": "@jupyter-widgets/base",
            "overflow": null,
            "_model_module_version": "1.2.0",
            "_view_count": null,
            "flex_flow": null,
            "width": null,
            "min_width": null,
            "border": null,
            "align_items": null,
            "bottom": null,
            "_model_module": "@jupyter-widgets/base",
            "top": null,
            "grid_column": null,
            "overflow_y": null,
            "overflow_x": null,
            "grid_auto_flow": null,
            "grid_area": null,
            "grid_template_columns": null,
            "flex": null,
            "_model_name": "LayoutModel",
            "justify_items": null,
            "grid_row": null,
            "max_height": null,
            "align_content": null,
            "visibility": null,
            "align_self": null,
            "height": null,
            "min_height": null,
            "padding": null,
            "grid_auto_rows": null,
            "grid_gap": null,
            "max_width": null,
            "order": null,
            "_view_module_version": "1.2.0",
            "grid_template_areas": null,
            "object_position": null,
            "object_fit": null,
            "grid_auto_columns": null,
            "margin": null,
            "display": null,
            "left": null
          }
        }
      }
    }
  },
  "cells": [
    {
      "cell_type": "markdown",
      "metadata": {
        "id": "view-in-github",
        "colab_type": "text"
      },
      "source": [
        "<a href=\"https://colab.research.google.com/github/Chuck2Win/chatbot_project/blob/main/kogpt2_chatbot.ipynb\" target=\"_parent\"><img src=\"https://colab.research.google.com/assets/colab-badge.svg\" alt=\"Open In Colab\"/></a>"
      ]
    },
    {
      "cell_type": "markdown",
      "metadata": {
        "id": "uRVvwTfZcbAT"
      },
      "source": [
        "# 1. GPU 확인\n"
      ]
    },
    {
      "cell_type": "code",
      "metadata": {
        "id": "XxSeHxzXbTMI",
        "colab": {
          "base_uri": "https://localhost:8080/"
        },
        "outputId": "2118c7e0-0490-4349-c2ec-4384054ce96c"
      },
      "source": [
        "! nvidia-smi"
      ],
      "execution_count": null,
      "outputs": [
        {
          "output_type": "stream",
          "text": [
            "Mon Nov 16 23:04:14 2020       \n",
            "+-----------------------------------------------------------------------------+\n",
            "| NVIDIA-SMI 455.38       Driver Version: 418.67       CUDA Version: 10.1     |\n",
            "|-------------------------------+----------------------+----------------------+\n",
            "| GPU  Name        Persistence-M| Bus-Id        Disp.A | Volatile Uncorr. ECC |\n",
            "| Fan  Temp  Perf  Pwr:Usage/Cap|         Memory-Usage | GPU-Util  Compute M. |\n",
            "|                               |                      |               MIG M. |\n",
            "|===============================+======================+======================|\n",
            "|   0  Tesla P100-PCIE...  Off  | 00000000:00:04.0 Off |                    0 |\n",
            "| N/A   42C    P0    27W / 250W |      0MiB / 16280MiB |      0%      Default |\n",
            "|                               |                      |                 ERR! |\n",
            "+-------------------------------+----------------------+----------------------+\n",
            "                                                                               \n",
            "+-----------------------------------------------------------------------------+\n",
            "| Processes:                                                                  |\n",
            "|  GPU   GI   CI        PID   Type   Process name                  GPU Memory |\n",
            "|        ID   ID                                                   Usage      |\n",
            "|=============================================================================|\n",
            "|  No running processes found                                                 |\n",
            "+-----------------------------------------------------------------------------+\n"
          ],
          "name": "stdout"
        }
      ]
    },
    {
      "cell_type": "markdown",
      "metadata": {
        "id": "sA8ImJNJcexD"
      },
      "source": [
        "# 2. Google drive 연동\n"
      ]
    },
    {
      "cell_type": "code",
      "metadata": {
        "id": "3alNmQLdXAhE",
        "colab": {
          "base_uri": "https://localhost:8080/"
        },
        "outputId": "47f57ae6-fedb-42c9-c04f-5f73785180d7"
      },
      "source": [
        "import os\n",
        "from google.colab import drive\n",
        "# google mount\n",
        "drive.mount('/content/gdrive')\n",
        "os.chdir('./gdrive/My Drive/chatbot/KoGPT2')"
      ],
      "execution_count": 2,
      "outputs": [
        {
          "output_type": "stream",
          "text": [
            "Mounted at /content/gdrive\n"
          ],
          "name": "stdout"
        }
      ]
    },
    {
      "cell_type": "markdown",
      "metadata": {
        "id": "MEfafZvScpgq"
      },
      "source": [
        "# 2. 1 필요 패키지 설치\n",
        "transformers"
      ]
    },
    {
      "cell_type": "code",
      "metadata": {
        "id": "3h8ilSa2POEs",
        "colab": {
          "base_uri": "https://localhost:8080/"
        },
        "outputId": "fabe92e5-532c-4422-ffdf-03db92250fb2"
      },
      "source": [
        "! pip3 install transformers"
      ],
      "execution_count": 3,
      "outputs": [
        {
          "output_type": "stream",
          "text": [
            "Collecting transformers\n",
            "\u001b[?25l  Downloading https://files.pythonhosted.org/packages/3a/83/e74092e7f24a08d751aa59b37a9fc572b2e4af3918cb66f7766c3affb1b4/transformers-3.5.1-py3-none-any.whl (1.3MB)\n",
            "\u001b[K     |████████████████████████████████| 1.3MB 6.0MB/s \n",
            "\u001b[?25hRequirement already satisfied: filelock in /usr/local/lib/python3.6/dist-packages (from transformers) (3.0.12)\n",
            "Requirement already satisfied: regex!=2019.12.17 in /usr/local/lib/python3.6/dist-packages (from transformers) (2019.12.20)\n",
            "Collecting sacremoses\n",
            "\u001b[?25l  Downloading https://files.pythonhosted.org/packages/7d/34/09d19aff26edcc8eb2a01bed8e98f13a1537005d31e95233fd48216eed10/sacremoses-0.0.43.tar.gz (883kB)\n",
            "\u001b[K     |████████████████████████████████| 890kB 41.8MB/s \n",
            "\u001b[?25hCollecting tokenizers==0.9.3\n",
            "\u001b[?25l  Downloading https://files.pythonhosted.org/packages/4c/34/b39eb9994bc3c999270b69c9eea40ecc6f0e97991dba28282b9fd32d44ee/tokenizers-0.9.3-cp36-cp36m-manylinux1_x86_64.whl (2.9MB)\n",
            "\u001b[K     |████████████████████████████████| 2.9MB 45.0MB/s \n",
            "\u001b[?25hRequirement already satisfied: protobuf in /usr/local/lib/python3.6/dist-packages (from transformers) (3.12.4)\n",
            "Requirement already satisfied: requests in /usr/local/lib/python3.6/dist-packages (from transformers) (2.23.0)\n",
            "Requirement already satisfied: dataclasses; python_version < \"3.7\" in /usr/local/lib/python3.6/dist-packages (from transformers) (0.7)\n",
            "Requirement already satisfied: numpy in /usr/local/lib/python3.6/dist-packages (from transformers) (1.18.5)\n",
            "Requirement already satisfied: tqdm>=4.27 in /usr/local/lib/python3.6/dist-packages (from transformers) (4.41.1)\n",
            "Collecting sentencepiece==0.1.91\n",
            "\u001b[?25l  Downloading https://files.pythonhosted.org/packages/d4/a4/d0a884c4300004a78cca907a6ff9a5e9fe4f090f5d95ab341c53d28cbc58/sentencepiece-0.1.91-cp36-cp36m-manylinux1_x86_64.whl (1.1MB)\n",
            "\u001b[K     |████████████████████████████████| 1.1MB 53.6MB/s \n",
            "\u001b[?25hRequirement already satisfied: packaging in /usr/local/lib/python3.6/dist-packages (from transformers) (20.4)\n",
            "Requirement already satisfied: six in /usr/local/lib/python3.6/dist-packages (from sacremoses->transformers) (1.15.0)\n",
            "Requirement already satisfied: click in /usr/local/lib/python3.6/dist-packages (from sacremoses->transformers) (7.1.2)\n",
            "Requirement already satisfied: joblib in /usr/local/lib/python3.6/dist-packages (from sacremoses->transformers) (0.17.0)\n",
            "Requirement already satisfied: setuptools in /usr/local/lib/python3.6/dist-packages (from protobuf->transformers) (50.3.2)\n",
            "Requirement already satisfied: certifi>=2017.4.17 in /usr/local/lib/python3.6/dist-packages (from requests->transformers) (2020.6.20)\n",
            "Requirement already satisfied: urllib3!=1.25.0,!=1.25.1,<1.26,>=1.21.1 in /usr/local/lib/python3.6/dist-packages (from requests->transformers) (1.24.3)\n",
            "Requirement already satisfied: idna<3,>=2.5 in /usr/local/lib/python3.6/dist-packages (from requests->transformers) (2.10)\n",
            "Requirement already satisfied: chardet<4,>=3.0.2 in /usr/local/lib/python3.6/dist-packages (from requests->transformers) (3.0.4)\n",
            "Requirement already satisfied: pyparsing>=2.0.2 in /usr/local/lib/python3.6/dist-packages (from packaging->transformers) (2.4.7)\n",
            "Building wheels for collected packages: sacremoses\n",
            "  Building wheel for sacremoses (setup.py) ... \u001b[?25l\u001b[?25hdone\n",
            "  Created wheel for sacremoses: filename=sacremoses-0.0.43-cp36-none-any.whl size=893257 sha256=1707c6cb358c36a188b5a5857154bcb32f4adc4c0a63c679a5e9f49463eeb301\n",
            "  Stored in directory: /root/.cache/pip/wheels/29/3c/fd/7ce5c3f0666dab31a50123635e6fb5e19ceb42ce38d4e58f45\n",
            "Successfully built sacremoses\n",
            "Installing collected packages: sacremoses, tokenizers, sentencepiece, transformers\n",
            "Successfully installed sacremoses-0.0.43 sentencepiece-0.1.91 tokenizers-0.9.3 transformers-3.5.1\n"
          ],
          "name": "stdout"
        }
      ]
    },
    {
      "cell_type": "code",
      "metadata": {
        "id": "1XW2zqtVczZm"
      },
      "source": [
        "import torch\n",
        "import pandas as pd\n",
        "import numpy as np\n",
        "import matplotlib.pyplot as plt\n",
        "import re\n",
        "import torch\n",
        "import torch.nn as nn\n",
        "import os\n",
        "import torchtext\n",
        "import time\n",
        "import datetime\n",
        "from tqdm import tqdm\n",
        "import transformers"
      ],
      "execution_count": 4,
      "outputs": []
    },
    {
      "cell_type": "markdown",
      "metadata": {
        "id": "eIYN6HpnbCQ5"
      },
      "source": [
        "# 3. Data 불러오기\n",
        "1. Chatbot_data\t일상 챗봇 학습용 문답 페어 11,876건\n",
        "일상(0) / 이별,부정(1) / 사랑,긍정(2) 라벨 부여 "
      ]
    },
    {
      "cell_type": "markdown",
      "metadata": {
        "id": "cvPtmGnItyAZ"
      },
      "source": [
        "# 3.1 데이터 전처리"
      ]
    },
    {
      "cell_type": "code",
      "metadata": {
        "id": "5gXGJTPpyiTZ",
        "colab": {
          "base_uri": "https://localhost:8080/",
          "height": 318,
          "referenced_widgets": [
            "3bc9768a4fe246f0a90f082ccd208066",
            "fa750fb3d781401fae05c0c01fc7108c",
            "31bc61ab0f364f7db8de89d0298991ca",
            "0c363b6effd4422d9f98d7f5e409da06",
            "705872c760104eeabef45c60d6271214",
            "575b8fdf271142a0b6bedf97eea3dd18",
            "e0301bbdb62e449886df1702bafab08f",
            "0d6496bbd7874799b65e06ab2037790b",
            "13670d6afeff4a2096adf3e9f5a76052",
            "fe63e4cd281647019c6ac57f00567be7",
            "7f886ea6606946d3a5674a7d78cb7912",
            "7a01916e011a49c98a66ef69c34a0634",
            "bfddaeabd1f34174a45cbd65f7423112",
            "775e003f24084231bbc18ec8ef73d48a",
            "3a3a39bed2c04610b00ee2e8b7b17ab0",
            "aca5c55cf2c94043a788e739be1e0ef0",
            "6c986a248a624731864c7a8892caf92d",
            "bbe82e54b43f4bceb9dda1d6c54f88c6",
            "4fe69f310d3a49a3be699d8f1447971e",
            "be1f13edbfec4d7ab4f3f8259b04868d",
            "3044dc7a35a3485ea95ccf84fd6f0a1b",
            "f2c8495a7b2945a6be2a2f0843c9859f",
            "78669ed8c21741c89bd00bfc8786bb3a",
            "18ca083b5f6a4e7f94a85b09bfd1210b",
            "c8ef69c15de946a6af2498ea0d0b44a1",
            "753e91da1bf14aab8bc74da55dd369d1",
            "b47d4e119dc640689dd356b2f97851e0",
            "4036b266d6ba4cc58789415259a2bf4e",
            "9d7c23244a434aa9ba20195fdf3ae104",
            "43428022861345c69663327277c5eb09",
            "2f9906b3c2054894b713f52ad415bace",
            "e5b79c007444445c9efb83713a7f3672",
            "a57a2f314aa344e8a6d8b9167697ceab",
            "595785fc58a64b9aba5d3f0e8bf901d6",
            "baa648abfda146c2a1302d9148bcf20b",
            "4e891cc41f4c47f39ec2f0f8d7c7c194",
            "417f1c89a26b46ac85f47266fb46d072",
            "dc119e65a6cf4d62bffddbea9986acfa",
            "1cd54d97c725402f87088d0e365b9844",
            "28d3c7c203054b6aa782c25f092c8d7d",
            "8b94c0b03a7346e8a36013816f47a249",
            "7a9c66ddf00146e794b9ea90457719a1",
            "0bd6cd27283e410f9b00f09c4637b10d",
            "761dc924f6d2441b8e576b3ca3614abd",
            "a8b87987a00e439da44bd9f86a2c5687",
            "e8473aeb8ca24c9f8d7c1deb96681ef7",
            "b1d8b7c8b5384989bdf039624d30f09b",
            "9739a56d71a04e16a1a47a296f68c9e1"
          ]
        },
        "outputId": "b8cc1059-a7ad-4ebd-92c9-e9a0e0a965ac"
      },
      "source": [
        "# model, tokenizer\n",
        "model=transformers.GPT2LMHeadModel.from_pretrained('taeminlee/kogpt2')\n",
        "tokenizer=transformers.GPT2TokenizerFast.from_pretrained('taeminlee/kogpt2')"
      ],
      "execution_count": 5,
      "outputs": [
        {
          "output_type": "display_data",
          "data": {
            "application/vnd.jupyter.widget-view+json": {
              "model_id": "3bc9768a4fe246f0a90f082ccd208066",
              "version_minor": 0,
              "version_major": 2
            },
            "text/plain": [
              "HBox(children=(FloatProgress(value=0.0, description='Downloading', max=577.0, style=ProgressStyle(description_…"
            ]
          },
          "metadata": {
            "tags": []
          }
        },
        {
          "output_type": "stream",
          "text": [
            "\n"
          ],
          "name": "stdout"
        },
        {
          "output_type": "display_data",
          "data": {
            "application/vnd.jupyter.widget-view+json": {
              "model_id": "13670d6afeff4a2096adf3e9f5a76052",
              "version_minor": 0,
              "version_major": 2
            },
            "text/plain": [
              "HBox(children=(FloatProgress(value=0.0, description='Downloading', max=509586767.0, style=ProgressStyle(descri…"
            ]
          },
          "metadata": {
            "tags": []
          }
        },
        {
          "output_type": "stream",
          "text": [
            "\n"
          ],
          "name": "stdout"
        },
        {
          "output_type": "display_data",
          "data": {
            "application/vnd.jupyter.widget-view+json": {
              "model_id": "6c986a248a624731864c7a8892caf92d",
              "version_minor": 0,
              "version_major": 2
            },
            "text/plain": [
              "HBox(children=(FloatProgress(value=0.0, description='Downloading', max=920243.0, style=ProgressStyle(descripti…"
            ]
          },
          "metadata": {
            "tags": []
          }
        },
        {
          "output_type": "stream",
          "text": [
            "\n"
          ],
          "name": "stdout"
        },
        {
          "output_type": "display_data",
          "data": {
            "application/vnd.jupyter.widget-view+json": {
              "model_id": "c8ef69c15de946a6af2498ea0d0b44a1",
              "version_minor": 0,
              "version_major": 2
            },
            "text/plain": [
              "HBox(children=(FloatProgress(value=0.0, description='Downloading', max=848819.0, style=ProgressStyle(descripti…"
            ]
          },
          "metadata": {
            "tags": []
          }
        },
        {
          "output_type": "stream",
          "text": [
            "\n"
          ],
          "name": "stdout"
        },
        {
          "output_type": "display_data",
          "data": {
            "application/vnd.jupyter.widget-view+json": {
              "model_id": "a57a2f314aa344e8a6d8b9167697ceab",
              "version_minor": 0,
              "version_major": 2
            },
            "text/plain": [
              "HBox(children=(FloatProgress(value=0.0, description='Downloading', max=85.0, style=ProgressStyle(description_w…"
            ]
          },
          "metadata": {
            "tags": []
          }
        },
        {
          "output_type": "stream",
          "text": [
            "\n"
          ],
          "name": "stdout"
        },
        {
          "output_type": "display_data",
          "data": {
            "application/vnd.jupyter.widget-view+json": {
              "model_id": "8b94c0b03a7346e8a36013816f47a249",
              "version_minor": 0,
              "version_major": 2
            },
            "text/plain": [
              "HBox(children=(FloatProgress(value=0.0, description='Downloading', max=109.0, style=ProgressStyle(description_…"
            ]
          },
          "metadata": {
            "tags": []
          }
        },
        {
          "output_type": "stream",
          "text": [
            "\n"
          ],
          "name": "stdout"
        }
      ]
    },
    {
      "cell_type": "code",
      "metadata": {
        "id": "JhORymbE48zP",
        "colab": {
          "base_uri": "https://localhost:8080/"
        },
        "outputId": "3a1a56c8-0650-431b-837e-cd6d1427e9fd"
      },
      "source": [
        "# special token 추가\n",
        "special_tokens = {\"cls_token\":\"<cls>\"}\n",
        "tokenizer.add_special_tokens(special_tokens)\n",
        "model.resize_token_embeddings(len(tokenizer))\n",
        "print(tokenizer.all_special_tokens)"
      ],
      "execution_count": 6,
      "outputs": [
        {
          "output_type": "stream",
          "text": [
            "['<s>', '</s>', '<unk>', '<pad>', '<cls>']\n"
          ],
          "name": "stdout"
        }
      ]
    },
    {
      "cell_type": "markdown",
      "metadata": {
        "id": "o6qpdIrPOiVR"
      },
      "source": [
        "# model load"
      ]
    },
    {
      "cell_type": "code",
      "metadata": {
        "id": "1k1J31h0SBTr"
      },
      "source": [
        "class Config(dict):\n",
        "    __setattr__=dict.__setitem__\n",
        "    __getattr__=dict.__getitem__"
      ],
      "execution_count": null,
      "outputs": []
    },
    {
      "cell_type": "code",
      "metadata": {
        "id": "bKKHYImoSKXY"
      },
      "source": [
        "config=Config({'seq_len':64,'bos_idx':tokenizer.eos_token_id,'eos_idx':tokenizer.bos_token_id,'pad_idx':tokenizer.pad_token_id,'cls_idx':tokenizer.encode('<cls>')[0],'n_vocab':tokenizer.vocab_size+1, 'batch_size':2})"
      ],
      "execution_count": null,
      "outputs": []
    },
    {
      "cell_type": "code",
      "metadata": {
        "id": "5eaSLUVfwGo9"
      },
      "source": [
        "# bos token, eos token 붙이기\n",
        "class make_data_set:\n",
        "    def __init__(self,config):\n",
        "        '''\n",
        "        data : data frame\n",
        "        data - Q, A 로 구성 \n",
        "        '''\n",
        "        data=pd.read_csv('https://raw.githubusercontent.com/songys/Chatbot_data/master/ChatbotData%20.csv',sep=',',header=0)\n",
        "        data['Q']='<s>'+data['Q']+'<cls>' #  start token, cls token add \n",
        "        data['A']='<s>'+data['A'] # start token, end token add\n",
        "        \n",
        "        data['Q_input_id']=data['Q'].apply(lambda i : tokenizer.encode(i))\n",
        "        data['A_input_id']=data['A'].apply(lambda i : tokenizer.encode(i))\n",
        "        \n",
        "        data['attention_mask']=None\n",
        "        data['token_id']=None\n",
        "        data['cls_position']=None\n",
        "        Max = config.seq_len\n",
        "        for i in data.index:\n",
        "            if len(data.Q_input_id[i])+len(data.A_input_id[i])>Max:\n",
        "                data.Q_input_id[i]=data.Q_input_id[i][-(Max//2):]\n",
        "                data.A_input_id[i]=data.A_input_id[i][:(Max-(Max//2))]\n",
        "            data['attention_mask'][i] = [1] * (len(data.Q_input_id[i])+len(data.A_input_id[i]))+[0] * (Max - (len(data.Q_input_id[i])+len(data.A_input_id[i])))\n",
        "            data['token_id'][i] = [0] * len(data.Q_input_id[i]) + [1] * (Max-len(data.Q_input_id[i]))\n",
        "            data['cls_position'][i] = len(data.Q_input_id[i])-1\n",
        "        data['input_id']=data['Q_input_id']+data['A_input_id']\n",
        "        data['input_id']=data['input_id'].apply(lambda j : j+(Max-len(j))*[tokenizer.pad_token_id])\n",
        "        data['lm_label']=data['Q_input_id'].apply(lambda i : len(i) * [tokenizer.pad_token_id])+data['A_input_id'].apply(lambda i : i[1:]+[tokenizer.eos_token_id])\n",
        "        data['lm_label']=data['lm_label'].apply(lambda j : j+(Max-len(j))*[tokenizer.pad_token_id])\n",
        "        self.data=data\n",
        "\n",
        "    def return_data_set(self):\n",
        "        result=self.data.loc[:,['input_id','attention_mask','token_id','cls_position','lm_label','label']]\n",
        "        return result\n",
        "# gpt2 관련 input들 처리하기\n",
        "# index of words - tokenized되고 encode 된 id들\n",
        "# token type ids - [0] : question [1] : answer \n",
        "# attention mask - [1] : padding 안 된 부분 [0] : padding 된 부분\n",
        "# label : Q \n",
        "# cls position : cls의 위치 (index)"
      ],
      "execution_count": null,
      "outputs": []
    },
    {
      "cell_type": "code",
      "metadata": {
        "id": "FnlL4wqAcAOS",
        "colab": {
          "base_uri": "https://localhost:8080/"
        },
        "outputId": "f3b1b147-1179-4100-cacb-8f53b246867c"
      },
      "source": [
        "make_data=make_data_set(config)\n",
        "dataset=make_data.return_data_set()"
      ],
      "execution_count": null,
      "outputs": [
        {
          "output_type": "stream",
          "text": [
            "/usr/local/lib/python3.6/dist-packages/ipykernel_launcher.py:23: SettingWithCopyWarning: \n",
            "A value is trying to be set on a copy of a slice from a DataFrame\n",
            "\n",
            "See the caveats in the documentation: https://pandas.pydata.org/pandas-docs/stable/user_guide/indexing.html#returning-a-view-versus-a-copy\n",
            "/usr/local/lib/python3.6/dist-packages/ipykernel_launcher.py:24: SettingWithCopyWarning: \n",
            "A value is trying to be set on a copy of a slice from a DataFrame\n",
            "\n",
            "See the caveats in the documentation: https://pandas.pydata.org/pandas-docs/stable/user_guide/indexing.html#returning-a-view-versus-a-copy\n",
            "/usr/local/lib/python3.6/dist-packages/ipykernel_launcher.py:25: SettingWithCopyWarning: \n",
            "A value is trying to be set on a copy of a slice from a DataFrame\n",
            "\n",
            "See the caveats in the documentation: https://pandas.pydata.org/pandas-docs/stable/user_guide/indexing.html#returning-a-view-versus-a-copy\n"
          ],
          "name": "stderr"
        }
      ]
    },
    {
      "cell_type": "code",
      "metadata": {
        "id": "P2dqgxcXot04",
        "colab": {
          "base_uri": "https://localhost:8080/",
          "height": 289
        },
        "outputId": "b82ebfba-fa78-4b6d-8d18-af133403314b"
      },
      "source": [
        "dataset.head()"
      ],
      "execution_count": null,
      "outputs": [
        {
          "output_type": "execute_result",
          "data": {
            "text/html": [
              "<div>\n",
              "<style scoped>\n",
              "    .dataframe tbody tr th:only-of-type {\n",
              "        vertical-align: middle;\n",
              "    }\n",
              "\n",
              "    .dataframe tbody tr th {\n",
              "        vertical-align: top;\n",
              "    }\n",
              "\n",
              "    .dataframe thead th {\n",
              "        text-align: right;\n",
              "    }\n",
              "</style>\n",
              "<table border=\"1\" class=\"dataframe\">\n",
              "  <thead>\n",
              "    <tr style=\"text-align: right;\">\n",
              "      <th></th>\n",
              "      <th>input_id</th>\n",
              "      <th>attention_mask</th>\n",
              "      <th>token_id</th>\n",
              "      <th>cls_position</th>\n",
              "      <th>lm_label</th>\n",
              "      <th>label</th>\n",
              "    </tr>\n",
              "  </thead>\n",
              "  <tbody>\n",
              "    <tr>\n",
              "      <th>0</th>\n",
              "      <td>[0, 1494, 47812, 50000, 0, 49517, 48594, 48594...</td>\n",
              "      <td>[1, 1, 1, 1, 1, 1, 1, 1, 1, 0, 0, 0, 0, 0, 0, ...</td>\n",
              "      <td>[0, 0, 0, 0, 1, 1, 1, 1, 1, 1, 1, 1, 1, 1, 1, ...</td>\n",
              "      <td>3</td>\n",
              "      <td>[3, 3, 3, 3, 49517, 48594, 48594, 47440, 1, 3,...</td>\n",
              "      <td>0</td>\n",
              "    </tr>\n",
              "    <tr>\n",
              "      <th>1</th>\n",
              "      <td>[0, 47456, 49517, 50000, 0, 49517, 47440, 3, 3...</td>\n",
              "      <td>[1, 1, 1, 1, 1, 1, 1, 0, 0, 0, 0, 0, 0, 0, 0, ...</td>\n",
              "      <td>[0, 0, 0, 0, 1, 1, 1, 1, 1, 1, 1, 1, 1, 1, 1, ...</td>\n",
              "      <td>3</td>\n",
              "      <td>[3, 3, 3, 3, 49517, 47440, 1, 3, 3, 3, 3, 3, 3...</td>\n",
              "      <td>0</td>\n",
              "    </tr>\n",
              "    <tr>\n",
              "      <th>2</th>\n",
              "      <td>[0, 47495, 48594, 47514, 48594, 50000, 0, 4951...</td>\n",
              "      <td>[1, 1, 1, 1, 1, 1, 1, 1, 1, 0, 0, 0, 0, 0, 0, ...</td>\n",
              "      <td>[0, 0, 0, 0, 0, 0, 1, 1, 1, 1, 1, 1, 1, 1, 1, ...</td>\n",
              "      <td>5</td>\n",
              "      <td>[3, 3, 3, 3, 3, 3, 49517, 47440, 1, 3, 3, 3, 3...</td>\n",
              "      <td>0</td>\n",
              "    </tr>\n",
              "    <tr>\n",
              "      <th>3</th>\n",
              "      <td>[0, 47495, 48594, 47514, 48594, 50000, 0, 4951...</td>\n",
              "      <td>[1, 1, 1, 1, 1, 1, 1, 1, 1, 0, 0, 0, 0, 0, 0, ...</td>\n",
              "      <td>[0, 0, 0, 0, 0, 0, 1, 1, 1, 1, 1, 1, 1, 1, 1, ...</td>\n",
              "      <td>5</td>\n",
              "      <td>[3, 3, 3, 3, 3, 3, 49517, 47440, 1, 3, 3, 3, 3...</td>\n",
              "      <td>0</td>\n",
              "    </tr>\n",
              "    <tr>\n",
              "      <th>4</th>\n",
              "      <td>[0, 47754, 9003, 49517, 50000, 0, 48594, 49517...</td>\n",
              "      <td>[1, 1, 1, 1, 1, 1, 1, 1, 1, 0, 0, 0, 0, 0, 0, ...</td>\n",
              "      <td>[0, 0, 0, 0, 0, 1, 1, 1, 1, 1, 1, 1, 1, 1, 1, ...</td>\n",
              "      <td>4</td>\n",
              "      <td>[3, 3, 3, 3, 3, 48594, 49517, 47440, 1, 3, 3, ...</td>\n",
              "      <td>0</td>\n",
              "    </tr>\n",
              "  </tbody>\n",
              "</table>\n",
              "</div>"
            ],
            "text/plain": [
              "                                            input_id  ... label\n",
              "0  [0, 1494, 47812, 50000, 0, 49517, 48594, 48594...  ...     0\n",
              "1  [0, 47456, 49517, 50000, 0, 49517, 47440, 3, 3...  ...     0\n",
              "2  [0, 47495, 48594, 47514, 48594, 50000, 0, 4951...  ...     0\n",
              "3  [0, 47495, 48594, 47514, 48594, 50000, 0, 4951...  ...     0\n",
              "4  [0, 47754, 9003, 49517, 50000, 0, 48594, 49517...  ...     0\n",
              "\n",
              "[5 rows x 6 columns]"
            ]
          },
          "metadata": {
            "tags": []
          },
          "execution_count": 41
        }
      ]
    },
    {
      "cell_type": "markdown",
      "metadata": {
        "id": "4o7Sj5f8CKgC"
      },
      "source": [
        "### 데이터 저장"
      ]
    },
    {
      "cell_type": "code",
      "metadata": {
        "id": "_dyCwzTtBiXZ"
      },
      "source": [
        "dataset.to_csv('./data.csv')"
      ],
      "execution_count": null,
      "outputs": []
    },
    {
      "cell_type": "markdown",
      "metadata": {
        "id": "E1pcOz42CQ0l"
      },
      "source": [
        "### train test split\n",
        "test는 0.2 비율"
      ]
    },
    {
      "cell_type": "code",
      "metadata": {
        "id": "KO94XbDACYCo",
        "colab": {
          "base_uri": "https://localhost:8080/",
          "height": 190
        },
        "outputId": "36ab390f-7775-4efc-c667-d15b97dec26b"
      },
      "source": [
        "from sklearn.model_selection import train_test_split\n",
        "train,test=train_test_split(dataset,test_size=0.2)"
      ],
      "execution_count": 1,
      "outputs": [
        {
          "output_type": "error",
          "ename": "NameError",
          "evalue": "ignored",
          "traceback": [
            "\u001b[0;31m---------------------------------------------------------------------------\u001b[0m",
            "\u001b[0;31mNameError\u001b[0m                                 Traceback (most recent call last)",
            "\u001b[0;32m<ipython-input-1-fa9a636c285a>\u001b[0m in \u001b[0;36m<module>\u001b[0;34m()\u001b[0m\n\u001b[1;32m      1\u001b[0m \u001b[0;32mfrom\u001b[0m \u001b[0msklearn\u001b[0m\u001b[0;34m.\u001b[0m\u001b[0mmodel_selection\u001b[0m \u001b[0;32mimport\u001b[0m \u001b[0mtrain_test_split\u001b[0m\u001b[0;34m\u001b[0m\u001b[0;34m\u001b[0m\u001b[0m\n\u001b[0;32m----> 2\u001b[0;31m \u001b[0mtrain\u001b[0m\u001b[0;34m,\u001b[0m\u001b[0mtest\u001b[0m\u001b[0;34m=\u001b[0m\u001b[0mtrain_test_split\u001b[0m\u001b[0;34m(\u001b[0m\u001b[0mdataset\u001b[0m\u001b[0;34m,\u001b[0m\u001b[0mtest_size\u001b[0m\u001b[0;34m=\u001b[0m\u001b[0;36m0.2\u001b[0m\u001b[0;34m)\u001b[0m\u001b[0;34m\u001b[0m\u001b[0;34m\u001b[0m\u001b[0m\n\u001b[0m",
            "\u001b[0;31mNameError\u001b[0m: name 'dataset' is not defined"
          ]
        }
      ]
    },
    {
      "cell_type": "markdown",
      "metadata": {
        "id": "Wh3rbiE2CqSN"
      },
      "source": [
        "### DataLoader"
      ]
    },
    {
      "cell_type": "code",
      "metadata": {
        "id": "ppyuZNbVDJKh"
      },
      "source": [
        "from torch.utils.data import DataLoader, TensorDataset\n",
        "train_dataset=TensorDataset(torch.LongTensor(train.input_id.values.tolist()),torch.LongTensor(train.attention_mask.values.tolist()),torch.LongTensor(train.token_id.values.tolist()),torch.LongTensor(train.cls_position.values.tolist()),torch.LongTensor(train.lm_label.values.tolist()),torch.LongTensor(train.label.values.tolist()))\n",
        "test_dataset=TensorDataset(torch.LongTensor(test.input_id.values.tolist()),torch.LongTensor(test.attention_mask.values.tolist()),torch.LongTensor(test.token_id.values.tolist()),torch.LongTensor(test.cls_position.values.tolist()),torch.LongTensor(test.lm_label.values.tolist()),torch.LongTensor(test.label.values.tolist()))"
      ],
      "execution_count": null,
      "outputs": []
    },
    {
      "cell_type": "code",
      "metadata": {
        "id": "6yXgB_EeCpvC"
      },
      "source": [
        "# train loader, test loader\n",
        "train_loader=DataLoader(train_dataset,batch_size=2,drop_last=True)\n",
        "test_dataset=DataLoader(test_dataset,batch_size=2,drop_last=True)"
      ],
      "execution_count": null,
      "outputs": []
    },
    {
      "cell_type": "code",
      "metadata": {
        "id": "VpXCqB76jo6I"
      },
      "source": [
        "class my_kogpt2_model(nn.Module):\n",
        "    def __init__(self, config, kogpt2):\n",
        "        super().__init__()\n",
        "        self.config = config\n",
        "        self.model = kogpt2\n",
        "        self.classification = nn.Linear(self.config.n_vocab, 3)\n",
        "    \n",
        "    def forward(self,data):\n",
        "        input_ids=data[0]\n",
        "        attention_mask=data[1]\n",
        "        token_type_ids=data[2]\n",
        "        cls_position=data[3] # batch size \n",
        "        lm_label=data[4]\n",
        "        label=data[-1]\n",
        "        output = self.model.forward(input_ids=input_ids,attention_mask=attention_mask,token_type_ids=token_type_ids,return_dict=True)\n",
        "        lm_output = output.logits # batch size, seq len, n_vocab -> batch size, n_vocab\n",
        "        classification_output = torch.vstack([self.classification.forward(lm_output[_,cls_position[_]]) for _ in range(self.config.batch_size)])\n",
        "        return lm_output, classification_output"
      ],
      "execution_count": null,
      "outputs": []
    },
    {
      "cell_type": "markdown",
      "metadata": {
        "id": "5vBsRwku3XkP"
      },
      "source": [
        "## 4. 학습"
      ]
    },
    {
      "cell_type": "code",
      "metadata": {
        "id": "rLAKNPTiR3_9"
      },
      "source": [
        "import time,datetime\n",
        "def Eplased(dt):\n",
        "    d=int(round(dt))\n",
        "    return str(datetime.timedelta(seconds=d))"
      ],
      "execution_count": null,
      "outputs": []
    },
    {
      "cell_type": "code",
      "metadata": {
        "id": "RWh3bzl5EIkn"
      },
      "source": [
        "device='cuda' if torch.cuda.is_available() else 'cpu'\n",
        "epochs = 50         # Num of Epoch\n",
        "learning_rate = 1e-5\n",
        "Model = my_kogpt2_model(config, model)\n",
        "Model.to(device)\n",
        "optimizer = transformers.AdamW(model.parameters(),lr=learning_rate) \n",
        "criterion1 = nn.CrossEntropyLoss(ignore_index=tokenizer.pad_token_id,reduction='sum') # language modeling\n",
        "criterion2 = nn.CrossEntropyLoss() # classification"
      ],
      "execution_count": null,
      "outputs": []
    },
    {
      "cell_type": "code",
      "metadata": {
        "id": "UCSzmCe5F0qC",
        "colab": {
          "base_uri": "https://localhost:8080/"
        },
        "outputId": "96e94bde-023d-438b-e54a-b6605ef71911"
      },
      "source": [
        "model.train()\n",
        "start_time = time.time()\n",
        "for epoch in tqdm(range(1,epochs+1),desc='epoch',mininterval=3600):\n",
        "    total_loss_1=0.\n",
        "    total_loss_2=0.\n",
        "    for step, data in tqdm(enumerate(train_loader),desc='step',mininterval=600):\n",
        "        optimizer.zero_grad()\n",
        "        data = tuple(i.to(device) for i in data)\n",
        "        a,b=Model.forward(data)        \n",
        "        loss1=criterion1(a.reshape(-1,50001),data[4].reshape(-1))\n",
        "        loss2=criterion2(b,data[-1])\n",
        "        loss=loss1/config.batch_size+loss2/config.batch.size\n",
        "        loss.backward()\n",
        "        total_loss_1+=(loss1/config.batch_size).item()\n",
        "        total_loss_2+=(loss2).item()\n",
        "        optimizer.step()\n",
        "    print('epoch : %d'%epoch)\n",
        "    print('total loss 1 : %.3f'%(total_loss_1/len(train_loader)))\n",
        "    print('total loss 2 : %.3f'%(total_loss_2/len(train_loader)))\n",
        "    print('Eplased Time : %s'%(Eplased(time.time()-start_time)))"
      ],
      "execution_count": null,
      "outputs": [
        {
          "output_type": "stream",
          "text": [
            "epoch:   0%|          | 0/50 [00:00<?, ?it/s]\n",
            "step: 4729it [04:44, 16.65it/s]\n",
            "\n",
            "step: 0it [00:00, ?it/s]\u001b[A"
          ],
          "name": "stderr"
        },
        {
          "output_type": "stream",
          "text": [
            "epoch : 1\n",
            "total loss 1 : 5.799\n",
            "total loss 2 : 0.965\n",
            "Eplased Time : 0:04:44\n"
          ],
          "name": "stdout"
        },
        {
          "output_type": "stream",
          "text": [
            "\rstep: 4729it [04:43, 16.66it/s]\n",
            "\n",
            "step: 0it [00:00, ?it/s]\u001b[A"
          ],
          "name": "stderr"
        },
        {
          "output_type": "stream",
          "text": [
            "epoch : 2\n",
            "total loss 1 : 5.779\n",
            "total loss 2 : 0.944\n",
            "Eplased Time : 0:09:28\n"
          ],
          "name": "stdout"
        },
        {
          "output_type": "stream",
          "text": [
            "\rstep: 4729it [04:43, 16.68it/s]\n",
            "\n",
            "step: 0it [00:00, ?it/s]\u001b[A"
          ],
          "name": "stderr"
        },
        {
          "output_type": "stream",
          "text": [
            "epoch : 3\n",
            "total loss 1 : 5.762\n",
            "total loss 2 : 0.935\n",
            "Eplased Time : 0:14:11\n"
          ],
          "name": "stdout"
        },
        {
          "output_type": "stream",
          "text": [
            "\rstep: 4729it [04:43, 16.68it/s]\n",
            "\n",
            "step: 0it [00:00, ?it/s]\u001b[A"
          ],
          "name": "stderr"
        },
        {
          "output_type": "stream",
          "text": [
            "epoch : 4\n",
            "total loss 1 : 5.742\n",
            "total loss 2 : 0.933\n",
            "Eplased Time : 0:18:55\n"
          ],
          "name": "stdout"
        },
        {
          "output_type": "stream",
          "text": [
            "\rstep: 4729it [04:40, 16.86it/s]\n",
            "\n",
            "step: 0it [00:00, ?it/s]\u001b[A"
          ],
          "name": "stderr"
        },
        {
          "output_type": "stream",
          "text": [
            "epoch : 5\n",
            "total loss 1 : 5.713\n",
            "total loss 2 : 0.926\n",
            "Eplased Time : 0:23:35\n"
          ],
          "name": "stdout"
        },
        {
          "output_type": "stream",
          "text": [
            "\rstep: 4729it [04:42, 16.75it/s]\n",
            "\n",
            "step: 0it [00:00, ?it/s]\u001b[A"
          ],
          "name": "stderr"
        },
        {
          "output_type": "stream",
          "text": [
            "epoch : 6\n",
            "total loss 1 : 5.697\n",
            "total loss 2 : 0.924\n",
            "Eplased Time : 0:28:18\n"
          ],
          "name": "stdout"
        },
        {
          "output_type": "stream",
          "text": [
            "\rstep: 4729it [04:41, 16.78it/s]\n",
            "\n",
            "step: 0it [00:00, ?it/s]\u001b[A"
          ],
          "name": "stderr"
        },
        {
          "output_type": "stream",
          "text": [
            "epoch : 7\n",
            "total loss 1 : 5.675\n",
            "total loss 2 : 0.921\n",
            "Eplased Time : 0:33:00\n"
          ],
          "name": "stdout"
        },
        {
          "output_type": "stream",
          "text": [
            "\rstep: 4729it [04:42, 16.73it/s]\n",
            "\n",
            "step: 0it [00:00, ?it/s]\u001b[A"
          ],
          "name": "stderr"
        },
        {
          "output_type": "stream",
          "text": [
            "epoch : 8\n",
            "total loss 1 : 5.653\n",
            "total loss 2 : 0.917\n",
            "Eplased Time : 0:37:42\n"
          ],
          "name": "stdout"
        },
        {
          "output_type": "stream",
          "text": [
            "\rstep: 4729it [04:43, 16.67it/s]\n",
            "\n",
            "step: 0it [00:00, ?it/s]\u001b[A"
          ],
          "name": "stderr"
        },
        {
          "output_type": "stream",
          "text": [
            "epoch : 9\n",
            "total loss 1 : 5.635\n",
            "total loss 2 : 0.914\n",
            "Eplased Time : 0:42:26\n"
          ],
          "name": "stdout"
        },
        {
          "output_type": "stream",
          "text": [
            "\rstep: 4729it [04:43, 16.69it/s]\n",
            "\n",
            "step: 0it [00:00, ?it/s]\u001b[A"
          ],
          "name": "stderr"
        },
        {
          "output_type": "stream",
          "text": [
            "epoch : 10\n",
            "total loss 1 : 5.600\n",
            "total loss 2 : 0.914\n",
            "Eplased Time : 0:47:09\n"
          ],
          "name": "stdout"
        },
        {
          "output_type": "stream",
          "text": [
            "\rstep: 4729it [04:43, 16.67it/s]\n",
            "\n",
            "step: 0it [00:00, ?it/s]\u001b[A"
          ],
          "name": "stderr"
        },
        {
          "output_type": "stream",
          "text": [
            "epoch : 11\n",
            "total loss 1 : 5.595\n",
            "total loss 2 : 0.911\n",
            "Eplased Time : 0:51:53\n"
          ],
          "name": "stdout"
        },
        {
          "output_type": "stream",
          "text": [
            "\rstep: 4729it [04:42, 16.72it/s]\n",
            "\n",
            "step: 0it [00:00, ?it/s]\u001b[A"
          ],
          "name": "stderr"
        },
        {
          "output_type": "stream",
          "text": [
            "epoch : 12\n",
            "total loss 1 : 5.549\n",
            "total loss 2 : 0.909\n",
            "Eplased Time : 0:56:36\n"
          ],
          "name": "stdout"
        },
        {
          "output_type": "stream",
          "text": [
            "step: 4729it [04:42, 16.77it/s]\n",
            "epoch:  26%|██▌       | 13/50 [1:01:17<2:54:27, 282.91s/it]\n",
            "step: 0it [00:00, ?it/s]\u001b[A"
          ],
          "name": "stderr"
        },
        {
          "output_type": "stream",
          "text": [
            "epoch : 13\n",
            "total loss 1 : 5.534\n",
            "total loss 2 : 0.907\n",
            "Eplased Time : 1:01:18\n"
          ],
          "name": "stdout"
        },
        {
          "output_type": "stream",
          "text": [
            "step: 4729it [04:41, 16.78it/s]\n",
            "\n",
            "step: 0it [00:00, ?it/s]\u001b[A"
          ],
          "name": "stderr"
        },
        {
          "output_type": "stream",
          "text": [
            "epoch : 14\n",
            "total loss 1 : 5.508\n",
            "total loss 2 : 0.904\n",
            "Eplased Time : 1:06:00\n"
          ],
          "name": "stdout"
        },
        {
          "output_type": "stream",
          "text": [
            "\rstep: 4729it [04:41, 16.78it/s]\n",
            "\n",
            "step: 0it [00:00, ?it/s]\u001b[A"
          ],
          "name": "stderr"
        },
        {
          "output_type": "stream",
          "text": [
            "epoch : 15\n",
            "total loss 1 : 5.489\n",
            "total loss 2 : 0.902\n",
            "Eplased Time : 1:10:41\n"
          ],
          "name": "stdout"
        },
        {
          "output_type": "stream",
          "text": [
            "\rstep: 4729it [04:41, 16.77it/s]\n",
            "\n",
            "step: 0it [00:00, ?it/s]\u001b[A"
          ],
          "name": "stderr"
        },
        {
          "output_type": "stream",
          "text": [
            "epoch : 16\n",
            "total loss 1 : 5.459\n",
            "total loss 2 : 0.902\n",
            "Eplased Time : 1:15:23\n"
          ],
          "name": "stdout"
        },
        {
          "output_type": "stream",
          "text": [
            "\rstep: 4729it [04:41, 16.78it/s]\n",
            "\n",
            "step: 0it [00:00, ?it/s]\u001b[A"
          ],
          "name": "stderr"
        },
        {
          "output_type": "stream",
          "text": [
            "epoch : 17\n",
            "total loss 1 : 5.424\n",
            "total loss 2 : 0.897\n",
            "Eplased Time : 1:20:05\n"
          ],
          "name": "stdout"
        },
        {
          "output_type": "stream",
          "text": [
            "\rstep: 4729it [04:42, 16.75it/s]\n",
            "\n",
            "step: 0it [00:00, ?it/s]\u001b[A"
          ],
          "name": "stderr"
        },
        {
          "output_type": "stream",
          "text": [
            "epoch : 18\n",
            "total loss 1 : 5.402\n",
            "total loss 2 : 0.899\n",
            "Eplased Time : 1:24:48\n"
          ],
          "name": "stdout"
        },
        {
          "output_type": "stream",
          "text": [
            "\rstep: 4729it [04:42, 16.74it/s]\n",
            "\n",
            "step: 0it [00:00, ?it/s]\u001b[A"
          ],
          "name": "stderr"
        },
        {
          "output_type": "stream",
          "text": [
            "epoch : 19\n",
            "total loss 1 : 5.375\n",
            "total loss 2 : 0.897\n",
            "Eplased Time : 1:29:30\n"
          ],
          "name": "stdout"
        },
        {
          "output_type": "stream",
          "text": [
            "\rstep: 4729it [04:43, 16.71it/s]\n",
            "\n",
            "step: 0it [00:00, ?it/s]\u001b[A"
          ],
          "name": "stderr"
        },
        {
          "output_type": "stream",
          "text": [
            "epoch : 20\n",
            "total loss 1 : 5.344\n",
            "total loss 2 : 0.894\n",
            "Eplased Time : 1:34:13\n"
          ],
          "name": "stdout"
        },
        {
          "output_type": "stream",
          "text": [
            "\rstep: 4729it [04:43, 16.68it/s]\n",
            "\n",
            "step: 0it [00:00, ?it/s]\u001b[A"
          ],
          "name": "stderr"
        },
        {
          "output_type": "stream",
          "text": [
            "epoch : 21\n",
            "total loss 1 : 5.310\n",
            "total loss 2 : 0.892\n",
            "Eplased Time : 1:38:57\n"
          ],
          "name": "stdout"
        },
        {
          "output_type": "stream",
          "text": [
            "\rstep: 4729it [04:43, 16.66it/s]\n",
            "\n",
            "step: 0it [00:00, ?it/s]\u001b[A"
          ],
          "name": "stderr"
        },
        {
          "output_type": "stream",
          "text": [
            "epoch : 22\n",
            "total loss 1 : 5.289\n",
            "total loss 2 : 0.890\n",
            "Eplased Time : 1:43:41\n"
          ],
          "name": "stdout"
        },
        {
          "output_type": "stream",
          "text": [
            "\rstep: 4729it [04:43, 16.66it/s]\n",
            "\n",
            "step: 0it [00:00, ?it/s]\u001b[A"
          ],
          "name": "stderr"
        },
        {
          "output_type": "stream",
          "text": [
            "epoch : 23\n",
            "total loss 1 : 5.256\n",
            "total loss 2 : 0.891\n",
            "Eplased Time : 1:48:24\n"
          ],
          "name": "stdout"
        },
        {
          "output_type": "stream",
          "text": [
            "\rstep: 4729it [04:44, 16.64it/s]\n",
            "\n",
            "step: 0it [00:00, ?it/s]\u001b[A"
          ],
          "name": "stderr"
        },
        {
          "output_type": "stream",
          "text": [
            "epoch : 24\n",
            "total loss 1 : 5.214\n",
            "total loss 2 : 0.888\n",
            "Eplased Time : 1:53:09\n"
          ],
          "name": "stdout"
        },
        {
          "output_type": "stream",
          "text": [
            "\rstep: 4729it [04:44, 16.65it/s]\n",
            "\n",
            "step: 0it [00:00, ?it/s]\u001b[A"
          ],
          "name": "stderr"
        },
        {
          "output_type": "stream",
          "text": [
            "epoch : 25\n",
            "total loss 1 : 5.179\n",
            "total loss 2 : 0.884\n",
            "Eplased Time : 1:57:53\n"
          ],
          "name": "stdout"
        },
        {
          "output_type": "stream",
          "text": [
            "step: 4729it [04:42, 16.74it/s]\n",
            "epoch:  52%|█████▏    | 26/50 [2:02:35<1:53:09, 282.90s/it]\n",
            "step: 0it [00:00, ?it/s]\u001b[A"
          ],
          "name": "stderr"
        },
        {
          "output_type": "stream",
          "text": [
            "epoch : 26\n",
            "total loss 1 : 5.161\n",
            "total loss 2 : 0.885\n",
            "Eplased Time : 2:02:35\n"
          ],
          "name": "stdout"
        },
        {
          "output_type": "stream",
          "text": [
            "step: 4729it [04:42, 16.76it/s]\n",
            "\n",
            "step: 0it [00:00, ?it/s]\u001b[A"
          ],
          "name": "stderr"
        },
        {
          "output_type": "stream",
          "text": [
            "epoch : 27\n",
            "total loss 1 : 5.119\n",
            "total loss 2 : 0.880\n",
            "Eplased Time : 2:07:17\n"
          ],
          "name": "stdout"
        },
        {
          "output_type": "stream",
          "text": [
            "\rstep: 4729it [04:41, 16.80it/s]\n",
            "\n",
            "step: 0it [00:00, ?it/s]\u001b[A"
          ],
          "name": "stderr"
        },
        {
          "output_type": "stream",
          "text": [
            "epoch : 28\n",
            "total loss 1 : 5.088\n",
            "total loss 2 : 0.881\n",
            "Eplased Time : 2:11:59\n"
          ],
          "name": "stdout"
        },
        {
          "output_type": "stream",
          "text": [
            "\rstep: 4729it [04:41, 16.78it/s]\n",
            "\n",
            "step: 0it [00:00, ?it/s]\u001b[A"
          ],
          "name": "stderr"
        },
        {
          "output_type": "stream",
          "text": [
            "epoch : 29\n",
            "total loss 1 : 5.062\n",
            "total loss 2 : 0.880\n",
            "Eplased Time : 2:16:41\n"
          ],
          "name": "stdout"
        },
        {
          "output_type": "stream",
          "text": [
            "\rstep: 4729it [04:42, 16.72it/s]\n",
            "\n",
            "step: 0it [00:00, ?it/s]\u001b[A"
          ],
          "name": "stderr"
        },
        {
          "output_type": "stream",
          "text": [
            "epoch : 30\n",
            "total loss 1 : 5.040\n",
            "total loss 2 : 0.878\n",
            "Eplased Time : 2:21:24\n"
          ],
          "name": "stdout"
        },
        {
          "output_type": "stream",
          "text": [
            "\rstep: 4729it [04:42, 16.75it/s]\n",
            "\n",
            "step: 0it [00:00, ?it/s]\u001b[A"
          ],
          "name": "stderr"
        },
        {
          "output_type": "stream",
          "text": [
            "epoch : 31\n",
            "total loss 1 : 5.001\n",
            "total loss 2 : 0.878\n",
            "Eplased Time : 2:26:06\n"
          ],
          "name": "stdout"
        },
        {
          "output_type": "stream",
          "text": [
            "\rstep: 4729it [04:42, 16.73it/s]\n",
            "\n",
            "step: 0it [00:00, ?it/s]\u001b[A"
          ],
          "name": "stderr"
        },
        {
          "output_type": "stream",
          "text": [
            "epoch : 32\n",
            "total loss 1 : 4.965\n",
            "total loss 2 : 0.874\n",
            "Eplased Time : 2:30:49\n"
          ],
          "name": "stdout"
        },
        {
          "output_type": "stream",
          "text": [
            "\rstep: 4729it [04:42, 16.73it/s]\n",
            "\n",
            "step: 0it [00:00, ?it/s]\u001b[A"
          ],
          "name": "stderr"
        },
        {
          "output_type": "stream",
          "text": [
            "epoch : 33\n",
            "total loss 1 : 4.924\n",
            "total loss 2 : 0.876\n",
            "Eplased Time : 2:35:31\n"
          ],
          "name": "stdout"
        },
        {
          "output_type": "stream",
          "text": [
            "\rstep: 4729it [04:44, 16.61it/s]\n",
            "\n",
            "step: 0it [00:00, ?it/s]\u001b[A"
          ],
          "name": "stderr"
        },
        {
          "output_type": "stream",
          "text": [
            "epoch : 34\n",
            "total loss 1 : 4.906\n",
            "total loss 2 : 0.873\n",
            "Eplased Time : 2:40:16\n"
          ],
          "name": "stdout"
        },
        {
          "output_type": "stream",
          "text": [
            "\rstep: 4729it [04:44, 16.65it/s]\n",
            "\n",
            "step: 0it [00:00, ?it/s]\u001b[A"
          ],
          "name": "stderr"
        },
        {
          "output_type": "stream",
          "text": [
            "epoch : 35\n",
            "total loss 1 : 4.870\n",
            "total loss 2 : 0.869\n",
            "Eplased Time : 2:45:00\n"
          ],
          "name": "stdout"
        },
        {
          "output_type": "stream",
          "text": [
            "\rstep: 4729it [04:44, 16.64it/s]\n",
            "\n",
            "step: 0it [00:00, ?it/s]\u001b[A"
          ],
          "name": "stderr"
        },
        {
          "output_type": "stream",
          "text": [
            "epoch : 36\n",
            "total loss 1 : 4.843\n",
            "total loss 2 : 0.865\n",
            "Eplased Time : 2:49:44\n"
          ],
          "name": "stdout"
        },
        {
          "output_type": "stream",
          "text": [
            "\rstep: 4729it [04:44, 16.65it/s]\n",
            "\n",
            "step: 0it [00:00, ?it/s]\u001b[A"
          ],
          "name": "stderr"
        },
        {
          "output_type": "stream",
          "text": [
            "epoch : 37\n",
            "total loss 1 : 4.802\n",
            "total loss 2 : 0.867\n",
            "Eplased Time : 2:54:28\n"
          ],
          "name": "stdout"
        },
        {
          "output_type": "stream",
          "text": [
            "\rstep: 4729it [04:43, 16.70it/s]\n",
            "\n",
            "step: 0it [00:00, ?it/s]\u001b[A"
          ],
          "name": "stderr"
        },
        {
          "output_type": "stream",
          "text": [
            "epoch : 38\n",
            "total loss 1 : 4.771\n",
            "total loss 2 : 0.864\n",
            "Eplased Time : 2:59:12\n"
          ],
          "name": "stdout"
        },
        {
          "output_type": "stream",
          "text": [
            "step: 4729it [04:42, 16.73it/s]\n",
            "epoch:  78%|███████▊  | 39/50 [3:03:54<51:52, 282.93s/it]  \n",
            "step: 0it [00:00, ?it/s]\u001b[A"
          ],
          "name": "stderr"
        },
        {
          "output_type": "stream",
          "text": [
            "epoch : 39\n",
            "total loss 1 : 4.744\n",
            "total loss 2 : 0.868\n",
            "Eplased Time : 3:03:54\n"
          ],
          "name": "stdout"
        },
        {
          "output_type": "stream",
          "text": [
            "step: 4729it [04:42, 16.73it/s]\n",
            "\n",
            "step: 0it [00:00, ?it/s]\u001b[A"
          ],
          "name": "stderr"
        },
        {
          "output_type": "stream",
          "text": [
            "epoch : 40\n",
            "total loss 1 : 4.702\n",
            "total loss 2 : 0.859\n",
            "Eplased Time : 3:08:37\n"
          ],
          "name": "stdout"
        },
        {
          "output_type": "stream",
          "text": [
            "\rstep: 4729it [04:42, 16.73it/s]\n",
            "\n",
            "step: 0it [00:00, ?it/s]\u001b[A"
          ],
          "name": "stderr"
        },
        {
          "output_type": "stream",
          "text": [
            "epoch : 41\n",
            "total loss 1 : 4.674\n",
            "total loss 2 : 0.859\n",
            "Eplased Time : 3:13:20\n"
          ],
          "name": "stdout"
        },
        {
          "output_type": "stream",
          "text": [
            "\rstep: 4729it [04:42, 16.73it/s]\n",
            "\n",
            "step: 0it [00:00, ?it/s]\u001b[A"
          ],
          "name": "stderr"
        },
        {
          "output_type": "stream",
          "text": [
            "epoch : 42\n",
            "total loss 1 : 4.633\n",
            "total loss 2 : 0.861\n",
            "Eplased Time : 3:18:02\n"
          ],
          "name": "stdout"
        },
        {
          "output_type": "stream",
          "text": [
            "\rstep: 4729it [04:42, 16.72it/s]\n",
            "\n",
            "step: 0it [00:00, ?it/s]\u001b[A"
          ],
          "name": "stderr"
        },
        {
          "output_type": "stream",
          "text": [
            "epoch : 43\n",
            "total loss 1 : 4.597\n",
            "total loss 2 : 0.858\n",
            "Eplased Time : 3:22:45\n"
          ],
          "name": "stdout"
        },
        {
          "output_type": "stream",
          "text": [
            "\rstep: 4729it [04:42, 16.75it/s]\n",
            "\n",
            "step: 0it [00:00, ?it/s]\u001b[A"
          ],
          "name": "stderr"
        },
        {
          "output_type": "stream",
          "text": [
            "epoch : 44\n",
            "total loss 1 : 4.573\n",
            "total loss 2 : 0.859\n",
            "Eplased Time : 3:27:28\n"
          ],
          "name": "stdout"
        },
        {
          "output_type": "stream",
          "text": [
            "\rstep: 4729it [04:42, 16.73it/s]\n",
            "\n",
            "step: 0it [00:00, ?it/s]\u001b[A"
          ],
          "name": "stderr"
        },
        {
          "output_type": "stream",
          "text": [
            "epoch : 45\n",
            "total loss 1 : 4.541\n",
            "total loss 2 : 0.855\n",
            "Eplased Time : 3:32:10\n"
          ],
          "name": "stdout"
        },
        {
          "output_type": "stream",
          "text": [
            "\rstep: 4729it [04:43, 16.65it/s]\n",
            "\n",
            "step: 0it [00:00, ?it/s]\u001b[A"
          ],
          "name": "stderr"
        },
        {
          "output_type": "stream",
          "text": [
            "epoch : 46\n",
            "total loss 1 : 4.510\n",
            "total loss 2 : 0.854\n",
            "Eplased Time : 3:36:54\n"
          ],
          "name": "stdout"
        },
        {
          "output_type": "stream",
          "text": [
            "\rstep: 4729it [04:44, 16.61it/s]\n",
            "\n",
            "step: 0it [00:00, ?it/s]\u001b[A"
          ],
          "name": "stderr"
        },
        {
          "output_type": "stream",
          "text": [
            "epoch : 47\n",
            "total loss 1 : 4.502\n",
            "total loss 2 : 0.853\n",
            "Eplased Time : 3:41:39\n"
          ],
          "name": "stdout"
        },
        {
          "output_type": "stream",
          "text": [
            "\rstep: 4729it [04:44, 16.61it/s]\n",
            "\n",
            "step: 0it [00:00, ?it/s]\u001b[A"
          ],
          "name": "stderr"
        },
        {
          "output_type": "stream",
          "text": [
            "epoch : 48\n",
            "total loss 1 : 4.450\n",
            "total loss 2 : 0.849\n",
            "Eplased Time : 3:46:24\n"
          ],
          "name": "stdout"
        },
        {
          "output_type": "stream",
          "text": [
            "\rstep: 4729it [04:45, 16.58it/s]\n",
            "\n",
            "step: 0it [00:00, ?it/s]\u001b[A"
          ],
          "name": "stderr"
        },
        {
          "output_type": "stream",
          "text": [
            "epoch : 49\n",
            "total loss 1 : 4.426\n",
            "total loss 2 : 0.849\n",
            "Eplased Time : 3:51:09\n"
          ],
          "name": "stdout"
        },
        {
          "output_type": "stream",
          "text": [
            "step: 4729it [04:44, 16.64it/s]\n",
            "epoch: 100%|██████████| 50/50 [3:55:53<00:00, 283.06s/it]"
          ],
          "name": "stderr"
        },
        {
          "output_type": "stream",
          "text": [
            "epoch : 50\n",
            "total loss 1 : 4.400\n",
            "total loss 2 : 0.845\n",
            "Eplased Time : 3:55:53\n"
          ],
          "name": "stdout"
        },
        {
          "output_type": "stream",
          "text": [
            "\n"
          ],
          "name": "stderr"
        }
      ]
    },
    {
      "cell_type": "code",
      "metadata": {
        "id": "ggygtZFqU_vW"
      },
      "source": [
        "torch.save(model.state_dict(),'./chatbot_transformer')"
      ],
      "execution_count": null,
      "outputs": []
    }
  ]
}